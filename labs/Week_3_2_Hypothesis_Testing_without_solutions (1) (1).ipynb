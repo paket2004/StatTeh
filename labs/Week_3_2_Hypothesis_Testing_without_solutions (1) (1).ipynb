{
  "cells": [
    {
      "cell_type": "markdown",
      "id": "b1e10c68",
      "metadata": {
        "id": "b1e10c68"
      },
      "source": [
        "# Importing required libraries"
      ]
    },
    {
      "cell_type": "code",
      "execution_count": null,
      "id": "bc1f8c2b",
      "metadata": {
        "id": "bc1f8c2b"
      },
      "outputs": [],
      "source": [
        "import seaborn as sns\n",
        "import matplotlib.pyplot as plt\n",
        "import pandas as pd\n",
        "import numpy as np\n",
        "import scipy.stats as stats\n",
        "from statsmodels.stats.weightstats import ztest as ztest\n",
        "import random\n",
        "import math\n",
        "import sys\n",
        "\n",
        "sns.set()\n",
        "%matplotlib inline\n",
        "\n",
        "np.set_printoptions(precision=2, suppress=True) # threshold=sys.maxsize)\n",
        "\n",
        "import warnings\n",
        "warnings.filterwarnings('ignore')\n",
        "\n",
        "plt.style.use('seaborn-whitegrid')\n",
        "plt.rcParams[\"figure.figsize\"] = (10, 10)"
      ]
    },
    {
      "cell_type": "markdown",
      "id": "4586d289",
      "metadata": {
        "id": "4586d289"
      },
      "source": [
        "# Hypothesis Testing and the T-test"
      ]
    },
    {
      "cell_type": "markdown",
      "id": "0f35ef60",
      "metadata": {
        "id": "0f35ef60"
      },
      "source": [
        "# Statistical hypotheses testing, p-value.\n",
        "\n",
        "\n",
        "$H_0$: there is no difference in test statistics\n",
        "\n",
        "$H_1$: there is a significant difference in test statistics\n",
        "\n",
        "***Type 1 error:*** we rejected the null hypothesis, but it was true.\n",
        "\n",
        "***Type 2 error:*** we failed to reject the null hypothesis, but it was false.\n",
        "\n",
        "***p-value*** is the probability of finding more extreme results when the null hypothesis is true."
      ]
    },
    {
      "cell_type": "markdown",
      "id": "bccb146f",
      "metadata": {
        "id": "bccb146f"
      },
      "source": [
        "## Hypothesis Testing Basics"
      ]
    },
    {
      "cell_type": "markdown",
      "id": "cafb0610",
      "metadata": {
        "id": "cafb0610"
      },
      "source": [
        "## One-Sample T-Test"
      ]
    },
    {
      "cell_type": "code",
      "execution_count": null,
      "id": "4cff7048",
      "metadata": {
        "id": "4cff7048",
        "outputId": "f2011cdb-5a13-46fe-ec9f-dc682e236383",
        "colab": {
          "base_uri": "https://localhost:8080/"
        }
      },
      "outputs": [
        {
          "output_type": "stream",
          "name": "stdout",
          "text": [
            "43.000112\n",
            "39.26\n"
          ]
        }
      ],
      "source": [
        "np.random.seed(6)\n",
        "\n",
        "population_ages1 = stats.poisson.rvs(loc=18, mu=35, size=150000)\n",
        "population_ages2 = stats.poisson.rvs(loc=18, mu=10, size=100000)\n",
        "population_ages = np.concatenate((population_ages1, population_ages2))\n",
        "\n",
        "minnesota_ages1 = stats.poisson.rvs(loc=18, mu=30, size=30)\n",
        "minnesota_ages2 = stats.poisson.rvs(loc=18, mu=10, size=20)\n",
        "minnesota_ages = np.concatenate((minnesota_ages1, minnesota_ages2))\n",
        "\n",
        "print(population_ages.mean())\n",
        "print(minnesota_ages.mean())"
      ]
    },
    {
      "cell_type": "markdown",
      "id": "1a52641e",
      "metadata": {
        "id": "1a52641e"
      },
      "source": [
        "Notice that we used a slightly different combination of distributions to generate the sample data for Minnesota, so we know that the two means are different. Let's conduct a t-test at a 95% confidence level and see if it correctly rejects the null hypothesis that the sample comes from the same distribution as the population. To conduct a one sample t-test, we can the stats.ttest_1samp() function:"
      ]
    },
    {
      "cell_type": "code",
      "execution_count": null,
      "id": "e0ac61bd",
      "metadata": {
        "id": "e0ac61bd",
        "outputId": "2d7bb157-fab2-46f5-b0a3-ebbd7b7541c6",
        "colab": {
          "base_uri": "https://localhost:8080/"
        }
      },
      "outputs": [
        {
          "output_type": "execute_result",
          "data": {
            "text/plain": [
              "TtestResult(statistic=-2.5742714883655027, pvalue=0.013118685425061678, df=49)"
            ]
          },
          "metadata": {},
          "execution_count": 3
        }
      ],
      "source": [
        "stats.ttest_1samp(a=minnesota_ages,               # Sample data\n",
        "                 popmean=population_ages.mean())  # Pop mean"
      ]
    },
    {
      "cell_type": "markdown",
      "id": "77f0a5ea",
      "metadata": {
        "id": "77f0a5ea"
      },
      "source": [
        "The test result shows the test statistic \"t\" is equal to -2.574. This test statistic tells us how much the sample mean deviates from the null hypothesis. If the t-statistic lies outside the quantiles of the t-distribution corresponding to our confidence level and degrees of freedom, we reject the null hypothesis. We can check the quantiles with stats.t.ppf():"
      ]
    },
    {
      "cell_type": "code",
      "execution_count": null,
      "id": "476a02e4",
      "metadata": {
        "id": "476a02e4",
        "outputId": "66ad0d65-4c13-437a-938f-fdc359bdffb1",
        "colab": {
          "base_uri": "https://localhost:8080/"
        }
      },
      "outputs": [
        {
          "output_type": "execute_result",
          "data": {
            "text/plain": [
              "-2.0095752344892093"
            ]
          },
          "metadata": {},
          "execution_count": 4
        }
      ],
      "source": [
        "stats.t.ppf(q=0.025,  # Quantile to check\n",
        "            df=49)  # Degrees of freedom"
      ]
    },
    {
      "cell_type": "code",
      "execution_count": null,
      "id": "9e39b873",
      "metadata": {
        "id": "9e39b873",
        "outputId": "8a606cee-a5fe-48fc-fdbf-f8bd47a326c5",
        "colab": {
          "base_uri": "https://localhost:8080/"
        }
      },
      "outputs": [
        {
          "output_type": "execute_result",
          "data": {
            "text/plain": [
              "2.009575234489209"
            ]
          },
          "metadata": {},
          "execution_count": 5
        }
      ],
      "source": [
        "stats.t.ppf(q=0.975,  # Quantile to check\n",
        "            df=49)  # Degrees of freedom"
      ]
    },
    {
      "cell_type": "markdown",
      "id": "d43cb3bb",
      "metadata": {
        "id": "d43cb3bb"
      },
      "source": [
        "We can calculate the chances of seeing a result as extreme as the one we observed (known as the p-value) by passing the t-statistic in as the quantile to the stats.t.cdf() function:"
      ]
    },
    {
      "cell_type": "code",
      "execution_count": null,
      "id": "46465542",
      "metadata": {
        "id": "46465542",
        "outputId": "8855749d-5355-4a62-f43a-46b962cdafbe",
        "colab": {
          "base_uri": "https://localhost:8080/"
        }
      },
      "outputs": [
        {
          "output_type": "execute_result",
          "data": {
            "text/plain": [
              "0.013121066545690117"
            ]
          },
          "metadata": {},
          "execution_count": 6
        }
      ],
      "source": [
        "stats.t.cdf(x=-2.5742,      # T-test statistic\n",
        "               df= 49) * 2   # Mupltiply by two for two tailed test*"
      ]
    },
    {
      "cell_type": "markdown",
      "id": "7deced80",
      "metadata": {
        "id": "7deced80"
      },
      "source": [
        "*Note*: The alternative hypothesis we are checking is whether the sample mean differs (is not equal to) the population mean. Since the sample could differ in either the positive or negative direction we multiply the by two.\n",
        "\n",
        "Notice this value is the same as the p-value listed in the original t-test output. A p-value of 0.01311 means we'd expect to see data as extreme as our sample due to chance about 1.3% of the time if the null hypothesis was true. In this case, the p-value is lower than our significance level α (equal to 1-conf.level or 0.05) so we should reject the null hypothesis. If we were to construct a 95% confidence interval for the sample it would not capture population mean of 43:"
      ]
    },
    {
      "cell_type": "code",
      "execution_count": null,
      "id": "33f80215",
      "metadata": {
        "id": "33f80215",
        "outputId": "d06613aa-407b-485b-c182-b02f493708f0",
        "colab": {
          "base_uri": "https://localhost:8080/"
        }
      },
      "outputs": [
        {
          "output_type": "execute_result",
          "data": {
            "text/plain": [
              "(36.369669080722176, 42.15033091927782)"
            ]
          },
          "metadata": {},
          "execution_count": 7
        }
      ],
      "source": [
        "# Sample stdev/sample size\n",
        "sigma = minnesota_ages.std()/math.sqrt(50)\n",
        "\n",
        "stats.t.interval(confidence=0.95,                        # Confidence level\n",
        "                 df=49,                     # Degrees of freedom\n",
        "                 loc=minnesota_ages.mean(), # Sample mean\n",
        "                 scale=sigma)                # Standard dev estimate"
      ]
    },
    {
      "cell_type": "markdown",
      "id": "02eb8a0a",
      "metadata": {
        "id": "02eb8a0a"
      },
      "source": [
        "On the other hand, since there is a 1.3% chance of seeing a result this extreme due to chance, it is not significant at the 99% confidence level. This means if we were to construct a 99% confidence interval, it would capture the population mean:"
      ]
    },
    {
      "cell_type": "code",
      "execution_count": null,
      "id": "a18a5560",
      "metadata": {
        "id": "a18a5560",
        "outputId": "140b2b7e-2e76-4001-b35e-fc0b4e406135",
        "colab": {
          "base_uri": "https://localhost:8080/"
        }
      },
      "outputs": [
        {
          "output_type": "execute_result",
          "data": {
            "text/plain": [
              "(35.40547994092107, 43.11452005907893)"
            ]
          },
          "metadata": {},
          "execution_count": 8
        }
      ],
      "source": [
        "stats.t.interval(confidence=0.99,                # Confidence level\n",
        "                 df=49,                     # Degrees of freedom\n",
        "                 loc=minnesota_ages.mean(), # Sample mean\n",
        "                 scale=sigma)                # Standard dev estimate"
      ]
    },
    {
      "cell_type": "markdown",
      "id": "4f603fee",
      "metadata": {
        "id": "4f603fee"
      },
      "source": [
        "With a higher confidence level, we construct a wider confidence interval and increase the chances that it captures to true mean, thus making it less likely that we'll reject the null hypothesis. In this case, the p-value of 0.013 is greater than our significance level of 0.01 and we fail to reject the null hypothesis."
      ]
    },
    {
      "cell_type": "markdown",
      "id": "0262aa6a",
      "metadata": {
        "id": "0262aa6a"
      },
      "source": [
        "## Two-Sample T-Test"
      ]
    },
    {
      "cell_type": "markdown",
      "id": "b3ee6a18",
      "metadata": {
        "id": "b3ee6a18"
      },
      "source": [
        "A two-sample t-test investigates whether the means of two independent data samples differ from one another. In a two-sample test, the null hypothesis is that the means of both groups are the same. Unlike the one sample-test where we test against a known population parameter, the two sample test only involves sample means. You can conduct a two-sample t-test by passing with the stats.ttest_ind() function. Let's generate a sample of voter age data for Wisconsin and test it against the sample we made earlier:"
      ]
    },
    {
      "cell_type": "code",
      "execution_count": null,
      "id": "a810451e",
      "metadata": {
        "id": "a810451e",
        "outputId": "b73e532d-55f8-4f52-938a-e4d5aca46756",
        "colab": {
          "base_uri": "https://localhost:8080/"
        }
      },
      "outputs": [
        {
          "output_type": "stream",
          "name": "stdout",
          "text": [
            "42.8\n"
          ]
        }
      ],
      "source": [
        "np.random.seed(12)\n",
        "wisconsin_ages1 = stats.poisson.rvs(loc=18, mu=33, size=30)\n",
        "wisconsin_ages2 = stats.poisson.rvs(loc=18, mu=13, size=20)\n",
        "wisconsin_ages = np.concatenate((wisconsin_ages1, wisconsin_ages2))\n",
        "\n",
        "print(wisconsin_ages.mean())"
      ]
    },
    {
      "cell_type": "code",
      "execution_count": null,
      "id": "43c6383b",
      "metadata": {
        "id": "43c6383b",
        "outputId": "4e6a8a88-5aba-463a-e8c4-ae0d81b8fb99",
        "colab": {
          "base_uri": "https://localhost:8080/"
        }
      },
      "outputs": [
        {
          "output_type": "execute_result",
          "data": {
            "text/plain": [
              "TtestResult(statistic=-1.7083870793286842, pvalue=0.09073104343957748, df=97.9724575497005)"
            ]
          },
          "metadata": {},
          "execution_count": 10
        }
      ],
      "source": [
        "stats.ttest_ind(a=minnesota_ages,\n",
        "                b=wisconsin_ages,\n",
        "                equal_var=False)    # Assume samples have equal variance?"
      ]
    },
    {
      "cell_type": "markdown",
      "id": "4a28d889",
      "metadata": {
        "id": "4a28d889"
      },
      "source": [
        "The test yields a p-value of 0.0907, which means there is a 9% chance we'd see sample data this far apart if the two groups tested are actually identical. If we were using a 95% confidence level we would fail to reject the null hypothesis, since the p-value is greater than the corresponding significance level of 5%."
      ]
    },
    {
      "cell_type": "markdown",
      "id": "a99c7e99",
      "metadata": {
        "id": "a99c7e99"
      },
      "source": [
        "## Paired T-Test"
      ]
    },
    {
      "cell_type": "markdown",
      "id": "92f096ea",
      "metadata": {
        "id": "92f096ea"
      },
      "source": [
        "The basic two sample t-test is designed for testing differences between independent groups. In some cases, you might be interested in testing differences between samples of the same group at different points in time. For instance, a hospital might want to test whether a weight-loss drug works by checking the weights of the same group patients before and after treatment. A paired t-test lets you check whether the means of samples from the same group differ.\n",
        "\n",
        "We can conduct a paired t-test using the scipy function stats.ttest_rel(). Let's generate some dummy patient weight data and do a paired t-test:"
      ]
    },
    {
      "cell_type": "code",
      "execution_count": null,
      "id": "08c19939",
      "metadata": {
        "id": "08c19939",
        "outputId": "e5ea9278-457e-4963-dee5-b29eb7850671",
        "colab": {
          "base_uri": "https://localhost:8080/",
          "height": 300
        }
      },
      "outputs": [
        {
          "output_type": "execute_result",
          "data": {
            "text/plain": [
              "       weight_before  weight_after  weight_change\n",
              "count     100.000000    100.000000     100.000000\n",
              "mean      250.345546    249.115171      -1.230375\n",
              "std        28.132539     28.422183       4.783696\n",
              "min       170.400443    165.913930     -11.495286\n",
              "25%       230.421042    229.148236      -4.046211\n",
              "50%       250.830805    251.134089      -1.413463\n",
              "75%       270.637145    268.927258       1.738673\n",
              "max       314.700233    316.720357       9.759282"
            ],
            "text/html": [
              "\n",
              "  <div id=\"df-e3c99dde-3419-44a6-a79f-618d1ad2cc3e\" class=\"colab-df-container\">\n",
              "    <div>\n",
              "<style scoped>\n",
              "    .dataframe tbody tr th:only-of-type {\n",
              "        vertical-align: middle;\n",
              "    }\n",
              "\n",
              "    .dataframe tbody tr th {\n",
              "        vertical-align: top;\n",
              "    }\n",
              "\n",
              "    .dataframe thead th {\n",
              "        text-align: right;\n",
              "    }\n",
              "</style>\n",
              "<table border=\"1\" class=\"dataframe\">\n",
              "  <thead>\n",
              "    <tr style=\"text-align: right;\">\n",
              "      <th></th>\n",
              "      <th>weight_before</th>\n",
              "      <th>weight_after</th>\n",
              "      <th>weight_change</th>\n",
              "    </tr>\n",
              "  </thead>\n",
              "  <tbody>\n",
              "    <tr>\n",
              "      <th>count</th>\n",
              "      <td>100.000000</td>\n",
              "      <td>100.000000</td>\n",
              "      <td>100.000000</td>\n",
              "    </tr>\n",
              "    <tr>\n",
              "      <th>mean</th>\n",
              "      <td>250.345546</td>\n",
              "      <td>249.115171</td>\n",
              "      <td>-1.230375</td>\n",
              "    </tr>\n",
              "    <tr>\n",
              "      <th>std</th>\n",
              "      <td>28.132539</td>\n",
              "      <td>28.422183</td>\n",
              "      <td>4.783696</td>\n",
              "    </tr>\n",
              "    <tr>\n",
              "      <th>min</th>\n",
              "      <td>170.400443</td>\n",
              "      <td>165.913930</td>\n",
              "      <td>-11.495286</td>\n",
              "    </tr>\n",
              "    <tr>\n",
              "      <th>25%</th>\n",
              "      <td>230.421042</td>\n",
              "      <td>229.148236</td>\n",
              "      <td>-4.046211</td>\n",
              "    </tr>\n",
              "    <tr>\n",
              "      <th>50%</th>\n",
              "      <td>250.830805</td>\n",
              "      <td>251.134089</td>\n",
              "      <td>-1.413463</td>\n",
              "    </tr>\n",
              "    <tr>\n",
              "      <th>75%</th>\n",
              "      <td>270.637145</td>\n",
              "      <td>268.927258</td>\n",
              "      <td>1.738673</td>\n",
              "    </tr>\n",
              "    <tr>\n",
              "      <th>max</th>\n",
              "      <td>314.700233</td>\n",
              "      <td>316.720357</td>\n",
              "      <td>9.759282</td>\n",
              "    </tr>\n",
              "  </tbody>\n",
              "</table>\n",
              "</div>\n",
              "    <div class=\"colab-df-buttons\">\n",
              "\n",
              "  <div class=\"colab-df-container\">\n",
              "    <button class=\"colab-df-convert\" onclick=\"convertToInteractive('df-e3c99dde-3419-44a6-a79f-618d1ad2cc3e')\"\n",
              "            title=\"Convert this dataframe to an interactive table.\"\n",
              "            style=\"display:none;\">\n",
              "\n",
              "  <svg xmlns=\"http://www.w3.org/2000/svg\" height=\"24px\" viewBox=\"0 -960 960 960\">\n",
              "    <path d=\"M120-120v-720h720v720H120Zm60-500h600v-160H180v160Zm220 220h160v-160H400v160Zm0 220h160v-160H400v160ZM180-400h160v-160H180v160Zm440 0h160v-160H620v160ZM180-180h160v-160H180v160Zm440 0h160v-160H620v160Z\"/>\n",
              "  </svg>\n",
              "    </button>\n",
              "\n",
              "  <style>\n",
              "    .colab-df-container {\n",
              "      display:flex;\n",
              "      gap: 12px;\n",
              "    }\n",
              "\n",
              "    .colab-df-convert {\n",
              "      background-color: #E8F0FE;\n",
              "      border: none;\n",
              "      border-radius: 50%;\n",
              "      cursor: pointer;\n",
              "      display: none;\n",
              "      fill: #1967D2;\n",
              "      height: 32px;\n",
              "      padding: 0 0 0 0;\n",
              "      width: 32px;\n",
              "    }\n",
              "\n",
              "    .colab-df-convert:hover {\n",
              "      background-color: #E2EBFA;\n",
              "      box-shadow: 0px 1px 2px rgba(60, 64, 67, 0.3), 0px 1px 3px 1px rgba(60, 64, 67, 0.15);\n",
              "      fill: #174EA6;\n",
              "    }\n",
              "\n",
              "    .colab-df-buttons div {\n",
              "      margin-bottom: 4px;\n",
              "    }\n",
              "\n",
              "    [theme=dark] .colab-df-convert {\n",
              "      background-color: #3B4455;\n",
              "      fill: #D2E3FC;\n",
              "    }\n",
              "\n",
              "    [theme=dark] .colab-df-convert:hover {\n",
              "      background-color: #434B5C;\n",
              "      box-shadow: 0px 1px 3px 1px rgba(0, 0, 0, 0.15);\n",
              "      filter: drop-shadow(0px 1px 2px rgba(0, 0, 0, 0.3));\n",
              "      fill: #FFFFFF;\n",
              "    }\n",
              "  </style>\n",
              "\n",
              "    <script>\n",
              "      const buttonEl =\n",
              "        document.querySelector('#df-e3c99dde-3419-44a6-a79f-618d1ad2cc3e button.colab-df-convert');\n",
              "      buttonEl.style.display =\n",
              "        google.colab.kernel.accessAllowed ? 'block' : 'none';\n",
              "\n",
              "      async function convertToInteractive(key) {\n",
              "        const element = document.querySelector('#df-e3c99dde-3419-44a6-a79f-618d1ad2cc3e');\n",
              "        const dataTable =\n",
              "          await google.colab.kernel.invokeFunction('convertToInteractive',\n",
              "                                                    [key], {});\n",
              "        if (!dataTable) return;\n",
              "\n",
              "        const docLinkHtml = 'Like what you see? Visit the ' +\n",
              "          '<a target=\"_blank\" href=https://colab.research.google.com/notebooks/data_table.ipynb>data table notebook</a>'\n",
              "          + ' to learn more about interactive tables.';\n",
              "        element.innerHTML = '';\n",
              "        dataTable['output_type'] = 'display_data';\n",
              "        await google.colab.output.renderOutput(dataTable, element);\n",
              "        const docLink = document.createElement('div');\n",
              "        docLink.innerHTML = docLinkHtml;\n",
              "        element.appendChild(docLink);\n",
              "      }\n",
              "    </script>\n",
              "  </div>\n",
              "\n",
              "\n",
              "<div id=\"df-e876bf04-2f5c-45e7-93f8-43c65d9d5f03\">\n",
              "  <button class=\"colab-df-quickchart\" onclick=\"quickchart('df-e876bf04-2f5c-45e7-93f8-43c65d9d5f03')\"\n",
              "            title=\"Suggest charts\"\n",
              "            style=\"display:none;\">\n",
              "\n",
              "<svg xmlns=\"http://www.w3.org/2000/svg\" height=\"24px\"viewBox=\"0 0 24 24\"\n",
              "     width=\"24px\">\n",
              "    <g>\n",
              "        <path d=\"M19 3H5c-1.1 0-2 .9-2 2v14c0 1.1.9 2 2 2h14c1.1 0 2-.9 2-2V5c0-1.1-.9-2-2-2zM9 17H7v-7h2v7zm4 0h-2V7h2v10zm4 0h-2v-4h2v4z\"/>\n",
              "    </g>\n",
              "</svg>\n",
              "  </button>\n",
              "\n",
              "<style>\n",
              "  .colab-df-quickchart {\n",
              "      --bg-color: #E8F0FE;\n",
              "      --fill-color: #1967D2;\n",
              "      --hover-bg-color: #E2EBFA;\n",
              "      --hover-fill-color: #174EA6;\n",
              "      --disabled-fill-color: #AAA;\n",
              "      --disabled-bg-color: #DDD;\n",
              "  }\n",
              "\n",
              "  [theme=dark] .colab-df-quickchart {\n",
              "      --bg-color: #3B4455;\n",
              "      --fill-color: #D2E3FC;\n",
              "      --hover-bg-color: #434B5C;\n",
              "      --hover-fill-color: #FFFFFF;\n",
              "      --disabled-bg-color: #3B4455;\n",
              "      --disabled-fill-color: #666;\n",
              "  }\n",
              "\n",
              "  .colab-df-quickchart {\n",
              "    background-color: var(--bg-color);\n",
              "    border: none;\n",
              "    border-radius: 50%;\n",
              "    cursor: pointer;\n",
              "    display: none;\n",
              "    fill: var(--fill-color);\n",
              "    height: 32px;\n",
              "    padding: 0;\n",
              "    width: 32px;\n",
              "  }\n",
              "\n",
              "  .colab-df-quickchart:hover {\n",
              "    background-color: var(--hover-bg-color);\n",
              "    box-shadow: 0 1px 2px rgba(60, 64, 67, 0.3), 0 1px 3px 1px rgba(60, 64, 67, 0.15);\n",
              "    fill: var(--button-hover-fill-color);\n",
              "  }\n",
              "\n",
              "  .colab-df-quickchart-complete:disabled,\n",
              "  .colab-df-quickchart-complete:disabled:hover {\n",
              "    background-color: var(--disabled-bg-color);\n",
              "    fill: var(--disabled-fill-color);\n",
              "    box-shadow: none;\n",
              "  }\n",
              "\n",
              "  .colab-df-spinner {\n",
              "    border: 2px solid var(--fill-color);\n",
              "    border-color: transparent;\n",
              "    border-bottom-color: var(--fill-color);\n",
              "    animation:\n",
              "      spin 1s steps(1) infinite;\n",
              "  }\n",
              "\n",
              "  @keyframes spin {\n",
              "    0% {\n",
              "      border-color: transparent;\n",
              "      border-bottom-color: var(--fill-color);\n",
              "      border-left-color: var(--fill-color);\n",
              "    }\n",
              "    20% {\n",
              "      border-color: transparent;\n",
              "      border-left-color: var(--fill-color);\n",
              "      border-top-color: var(--fill-color);\n",
              "    }\n",
              "    30% {\n",
              "      border-color: transparent;\n",
              "      border-left-color: var(--fill-color);\n",
              "      border-top-color: var(--fill-color);\n",
              "      border-right-color: var(--fill-color);\n",
              "    }\n",
              "    40% {\n",
              "      border-color: transparent;\n",
              "      border-right-color: var(--fill-color);\n",
              "      border-top-color: var(--fill-color);\n",
              "    }\n",
              "    60% {\n",
              "      border-color: transparent;\n",
              "      border-right-color: var(--fill-color);\n",
              "    }\n",
              "    80% {\n",
              "      border-color: transparent;\n",
              "      border-right-color: var(--fill-color);\n",
              "      border-bottom-color: var(--fill-color);\n",
              "    }\n",
              "    90% {\n",
              "      border-color: transparent;\n",
              "      border-bottom-color: var(--fill-color);\n",
              "    }\n",
              "  }\n",
              "</style>\n",
              "\n",
              "  <script>\n",
              "    async function quickchart(key) {\n",
              "      const quickchartButtonEl =\n",
              "        document.querySelector('#' + key + ' button');\n",
              "      quickchartButtonEl.disabled = true;  // To prevent multiple clicks.\n",
              "      quickchartButtonEl.classList.add('colab-df-spinner');\n",
              "      try {\n",
              "        const charts = await google.colab.kernel.invokeFunction(\n",
              "            'suggestCharts', [key], {});\n",
              "      } catch (error) {\n",
              "        console.error('Error during call to suggestCharts:', error);\n",
              "      }\n",
              "      quickchartButtonEl.classList.remove('colab-df-spinner');\n",
              "      quickchartButtonEl.classList.add('colab-df-quickchart-complete');\n",
              "    }\n",
              "    (() => {\n",
              "      let quickchartButtonEl =\n",
              "        document.querySelector('#df-e876bf04-2f5c-45e7-93f8-43c65d9d5f03 button');\n",
              "      quickchartButtonEl.style.display =\n",
              "        google.colab.kernel.accessAllowed ? 'block' : 'none';\n",
              "    })();\n",
              "  </script>\n",
              "</div>\n",
              "    </div>\n",
              "  </div>\n"
            ]
          },
          "metadata": {},
          "execution_count": 11
        }
      ],
      "source": [
        "np.random.seed(11)\n",
        "\n",
        "before = stats.norm.rvs(scale=30, loc=250, size=100)\n",
        "\n",
        "after = before + stats.norm.rvs(scale=5, loc=-1.25, size=100)\n",
        "\n",
        "weight_df = pd.DataFrame({\"weight_before\":before,\n",
        "                          \"weight_after\":after,\n",
        "                          \"weight_change\":after-before})\n",
        "\n",
        "weight_df.describe()             # Check a summary of the data"
      ]
    },
    {
      "cell_type": "markdown",
      "id": "fa88c62e",
      "metadata": {
        "id": "fa88c62e"
      },
      "source": [
        "The summary shows that patients lost about 1.23 pounds on average after treatment. Let's conduct a paired t-test to see whether this difference is significant at a 95% confidence level:"
      ]
    },
    {
      "cell_type": "code",
      "execution_count": null,
      "id": "f1243523",
      "metadata": {
        "id": "f1243523",
        "outputId": "9484e726-47aa-4653-da40-f5fb1cd76f56",
        "colab": {
          "base_uri": "https://localhost:8080/"
        }
      },
      "outputs": [
        {
          "output_type": "execute_result",
          "data": {
            "text/plain": [
              "TtestResult(statistic=2.5720175998568284, pvalue=0.011596444318439857, df=99)"
            ]
          },
          "metadata": {},
          "execution_count": 12
        }
      ],
      "source": [
        "stats.ttest_rel(a=before, b=after)"
      ]
    },
    {
      "cell_type": "markdown",
      "id": "c8d618ba",
      "metadata": {
        "id": "c8d618ba"
      },
      "source": [
        "The p-value in the test output shows that the chances of seeing this large of a difference between samples due to chance is just over 1%."
      ]
    },
    {
      "cell_type": "markdown",
      "id": "bb1880ef",
      "metadata": {
        "id": "bb1880ef"
      },
      "source": [
        "## Type I and Type II Error"
      ]
    },
    {
      "cell_type": "markdown",
      "id": "b9777f17",
      "metadata": {
        "id": "b9777f17"
      },
      "source": [
        "\n",
        "Type I error describes a situation where you reject the null hypothesis when it is actually true. This type of error is also known as a \"false positive\" or \"false hit\". The type 1 error rate is equal to the significance level α, so setting a higher confidence level (and therefore lower alpha) reduces the chances of getting a false positive.\n",
        "\n",
        "Type II error describes a situation where you fail to reject the null hypothesis when it is actually false. Type II error is also known as a \"false negative\" or \"miss\". The higher your confidence level, the more likely you are to make a type II error.\n",
        "\n",
        "Let's investigate these errors with a plot:"
      ]
    },
    {
      "cell_type": "code",
      "execution_count": null,
      "id": "fb19d467",
      "metadata": {
        "id": "fb19d467",
        "outputId": "6ea21fad-d14b-4438-eb4a-4d9c6da3461d",
        "colab": {
          "base_uri": "https://localhost:8080/",
          "height": 842
        }
      },
      "outputs": [
        {
          "output_type": "execute_result",
          "data": {
            "text/plain": [
              "Text(0, 0.02, 'Type 2 Error')"
            ]
          },
          "metadata": {},
          "execution_count": 13
        },
        {
          "output_type": "display_data",
          "data": {
            "text/plain": [
              "<Figure size 1000x1000 with 1 Axes>"
            ],
            "image/png": "[encoded data removed]"
          },
          "metadata": {}
        }
      ],
      "source": [
        "# plt.figure(figsize=(12,10))\n",
        "plt.plot(np.arange(-4,-2,0.01), stats.norm.pdf(np.arange(-4,-2,0.01)))\n",
        "plt.fill_between(x=np.arange(-4,-2,0.01),\n",
        "                 y1=stats.norm.pdf(np.arange(-4,-2,0.01)),\n",
        "                 facecolor='red',\n",
        "                 alpha=0.35)\n",
        "\n",
        "plt.plot(np.arange(-2,2,0.01), stats.norm.pdf(np.arange(-2,2,0.01)))\n",
        "plt.fill_between(x=np.arange(-2,2,0.01),\n",
        "                 y1=stats.norm.pdf(np.arange(-2,2,0.01)),\n",
        "                 facecolor='white',\n",
        "                 alpha=0.35)\n",
        "\n",
        "plt.plot(np.arange(2,4,0.01), stats.norm.pdf(np.arange(2,4,0.01)))\n",
        "plt.fill_between(x=np.arange(2,4,0.01),\n",
        "                 y1=stats.norm.pdf(np.arange(2,4,0.01)),\n",
        "                 facecolor='red',\n",
        "                 alpha=0.5)\n",
        "\n",
        "plt.plot(np.arange(-4,-2,0.01), stats.norm.pdf(np.arange(-4,-2,0.01), loc=3, scale=2))\n",
        "plt.fill_between(x=np.arange(-4,-2,0.01),\n",
        "                 y1=stats.norm.pdf(np.arange(-4,-2,0.01), loc=3, scale=2),\n",
        "                 facecolor='white',\n",
        "                 alpha=0.35)\n",
        "\n",
        "plt.plot(np.arange(-2,2,0.01), stats.norm.pdf(np.arange(-2,2,0.01), loc=3, scale=2))\n",
        "plt.fill_between(x=np.arange(-2,2,0.01),\n",
        "                 y1=stats.norm.pdf(np.arange(-2,2,0.01), loc=3, scale=2),\n",
        "                 facecolor='blue',\n",
        "                 alpha=0.35)\n",
        "\n",
        "plt.plot(np.arange(2,10,0.01), stats.norm.pdf(np.arange(2,10,0.01), loc=3, scale=2))\n",
        "plt.fill_between(x=np.arange(2,10,0.01),\n",
        "                 y1=stats.norm.pdf(np.arange(2,10,0.01),loc=3, scale=2),\n",
        "                 facecolor='white',\n",
        "                 alpha=0.35)\n",
        "\n",
        "plt.text(x=-0.8, y=0.15, s=\"Null Hypothesis\")\n",
        "plt.text(x=2.5, y=0.13, s=\"Alternative\")\n",
        "plt.text(x=2.1, y=0.01, s=\"Type 1 Error\")\n",
        "plt.text(x=-3.2, y=0.01, s=\"Type 1 Error\")\n",
        "plt.text(x=0, y=0.02, s=\"Type 2 Error\")"
      ]
    },
    {
      "cell_type": "markdown",
      "id": "97fdd64e",
      "metadata": {
        "id": "97fdd64e"
      },
      "source": [
        "In the plot above, the red areas indicate type I errors assuming the alternative hypothesis is not different from the null for a two-sided test with a 95% confidence level.\n",
        "\n",
        "The blue area represents type II errors that occur when the alternative hypothesis is different from the null, as shown by the distribution on the right. Note that the Type II error rate is the area under the alternative distribution within the quantiles determined by the null distribution and the confidence level. We can calculate the type II error rate for the distributions above as follows:"
      ]
    },
    {
      "cell_type": "code",
      "execution_count": null,
      "id": "5a201796",
      "metadata": {
        "id": "5a201796",
        "outputId": "a2e283fe-1ca2-42c0-a424-d239f40be720",
        "colab": {
          "base_uri": "https://localhost:8080/"
        }
      },
      "outputs": [
        {
          "output_type": "execute_result",
          "data": {
            "text/plain": [
              "0.294956061112323"
            ]
          },
          "metadata": {},
          "execution_count": 16
        }
      ],
      "source": [
        "lower_quantile = stats.norm.ppf(0.025)  # Lower cutoff value\n",
        "upper_quantile = stats.norm.ppf(0.975)  # Upper cutoff value\n",
        "\n",
        "# Area under alternative, to the left the lower cutoff value\n",
        "low = stats.norm.cdf(lower_quantile,\n",
        "                     loc=3,\n",
        "                     scale=2)\n",
        "\n",
        "# Area under alternative, to the left the upper cutoff value\n",
        "high = stats.norm.cdf(upper_quantile,\n",
        "                      loc=3,\n",
        "                      scale=2)\n",
        "\n",
        "# Area under the alternative, between the cutoffs (Type II error)\n",
        "high-low"
      ]
    },
    {
      "cell_type": "markdown",
      "id": "8ffb0b5c",
      "metadata": {
        "id": "8ffb0b5c"
      },
      "source": [
        "With the normal distributions above, we'd fail to reject the null hypothesis about 30% of the time because the distributions are close enough together that they have significant overlap."
      ]
    },
    {
      "cell_type": "markdown",
      "id": "4f043565",
      "metadata": {
        "id": "4f043565"
      },
      "source": [
        "## Wrap Up\n",
        "The t-test is a powerful tool for investigating the differences between sample and population means. T-tests operate on numeric variables; in the next lesson, we'll discuss statistical tests for categorical variables."
      ]
    },
    {
      "cell_type": "markdown",
      "id": "c7460a4b",
      "metadata": {
        "id": "c7460a4b"
      },
      "source": [
        "# How to Perform One Sample & Two Sample Z-Tests in Python"
      ]
    },
    {
      "cell_type": "markdown",
      "id": "4316b986",
      "metadata": {
        "id": "4316b986"
      },
      "source": [
        "https://en.wikipedia.org/wiki/Z-test\n",
        "\n",
        "https://ru.wikipedia.org/wiki/Z-%D1%82%D0%B5%D1%81%D1%82\n",
        "\n",
        "https://www.statology.org/z-test-python/"
      ]
    },
    {
      "cell_type": "markdown",
      "id": "a9e739a9",
      "metadata": {
        "id": "a9e739a9"
      },
      "source": [
        "https://www.educba.com/python-z-test/\n",
        "\n",
        "The Z test involves determining the P-value and then verifying how close the determined P value is close to the significance value which is considered. Usually, the significance value is around 0.05. The P value stands for the representation of the probability value identified. The probability value mentions on how much possible the determined assumption is a null hypothesis or an alternative hypothesis. So based on the P value determined, the reality of the hypothesis assumption is validated. This is the key process of the Z test.\n",
        "\n",
        "**When to Perform Z Test in Python?**\n",
        "\n",
        "* First, the size of the sample used determines when the Z test needs to be performed. This means whenever the size of the sample is larger than 30 records, then the Z test is preferred. So the sample size plays a key in Z test determination. When the number of sample records involved is lesser than 30, then the t-test is preferred over the Z test.\n",
        "* Every datapoint involved needs to be independent between each other. This means both the datapoints involved in the Z test needs to be self-governing, then the data used must be suitable for the Z test. This is another key functionality for considering the Z test in python.\n",
        "* The normal distribution of the data is expected. Especially for smaller sample sizes, this needs to be strictly followed. The normal distribution of the sample sizes is a key factor for this Z test selection. When the sample size is greater than 30 records, it can be considered without having the normal distribution in place.\n",
        "* The method of sampling is another key factor used. This determines how precise the hypothesis is calculated. Here we need to ensure the data selected in the sample is well distributed and randomly selected. So from a large set of population, it is necessary to ensure the data is well shuffled and selected from this large set so that all aspects of the population can be covered in the sample set."
      ]
    },
    {
      "cell_type": "markdown",
      "id": "8bb11c74",
      "metadata": {
        "id": "8bb11c74"
      },
      "source": [
        "You can use the ztest() function from the [statsmodels](https://www.statsmodels.org/stable/generated/statsmodels.stats.weightstats.ztest.html) package to perform one sample and two sample z-tests in Python.\n",
        "\n",
        "This function uses the following basic syntax:\n",
        "\n",
        "**statsmodels.stats.weightstats.ztest(x1, x2=None, value=0)**\n",
        "\n",
        "where:\n",
        "\n",
        "* x1: values for the first sample\n",
        "* x2: values for the second sample (if performing a two sample z-test)\n",
        "* value: mean under the null (in one sample case) or mean difference (in two sample case)\n",
        "\n",
        "The following examples shows how to use this function in practice."
      ]
    },
    {
      "cell_type": "markdown",
      "id": "a0a17244",
      "metadata": {
        "id": "a0a17244"
      },
      "source": [
        "## Example 1: One Sample Z-Test in Python"
      ]
    },
    {
      "cell_type": "markdown",
      "id": "b2631589",
      "metadata": {
        "id": "b2631589"
      },
      "source": [
        "Suppose the IQ in a certain population is normally distributed with a mean of $\\mu$ = 100 and standard deviation of $\\sigma$ = 15.\n",
        "\n",
        "A researcher wants to know if a new drug affects IQ levels, so he recruits 20 patients to try it and records their IQ levels.\n",
        "\n",
        "The following code shows how to perform a one sample z-test in Python to determine if the new drug causes a significant difference in IQ levels:"
      ]
    },
    {
      "cell_type": "code",
      "execution_count": null,
      "id": "dc646744",
      "metadata": {
        "id": "dc646744",
        "outputId": "8eecbb92-2394-4fcd-9ce8-ed6e2ce1eb5e",
        "colab": {
          "base_uri": "https://localhost:8080/"
        }
      },
      "outputs": [
        {
          "output_type": "execute_result",
          "data": {
            "text/plain": [
              "(1.5976240527147705, 0.1101266701438426)"
            ]
          },
          "metadata": {},
          "execution_count": 17
        }
      ],
      "source": [
        "#enter IQ levels for 20 patients\n",
        "data = [88, 92, 94, 94, 96, 97, 97, 97, 99, 99,\n",
        "        105, 109, 109, 109, 110, 112, 112, 113, 114, 115]\n",
        "\n",
        "#perform one sample z-test\n",
        "ztest(data, value=100)\n"
      ]
    },
    {
      "cell_type": "markdown",
      "id": "ac9ca1d4",
      "metadata": {
        "id": "ac9ca1d4"
      },
      "source": [
        "The test statistic for the one sample z-test is **1.5976** and the corresponding p-value is **0.1101**.\n",
        "\n",
        "Since this p-value is not less than **0.05**, we do not have sufficient evidence to reject the null hypothesis. In other words, the new drug does not significantly affect IQ level."
      ]
    },
    {
      "cell_type": "markdown",
      "id": "8785aca2",
      "metadata": {
        "id": "8785aca2"
      },
      "source": [
        "## Example 2: Two Sample Z-Test in Python"
      ]
    },
    {
      "cell_type": "markdown",
      "id": "dfb00e41",
      "metadata": {
        "id": "dfb00e41"
      },
      "source": [
        "Suppose the IQ levels among individuals in two different cities are known to be normally distributed with known standard deviations.\n",
        "\n",
        "A researcher wants to know if the mean IQ level between individuals in city A and city B are different, so she selects a [simple random sample](https://www.statology.org/sampling-methods/) of  20 individuals from each city and records their IQ levels.\n",
        "\n",
        "The following code shows how to perform a two sample z-test in Python to determine if the mean IQ level is different between the two cities:"
      ]
    },
    {
      "cell_type": "code",
      "execution_count": null,
      "id": "0fb3e25d",
      "metadata": {
        "id": "0fb3e25d",
        "outputId": "d2a82945-b9d0-4477-d179-ca087e952312",
        "colab": {
          "base_uri": "https://localhost:8080/"
        }
      },
      "outputs": [
        {
          "output_type": "execute_result",
          "data": {
            "text/plain": [
              "(-1.9953236073282115, 0.046007596761332065)"
            ]
          },
          "metadata": {},
          "execution_count": 17
        }
      ],
      "source": [
        "#enter IQ levels for 20 individuals from each city\n",
        "cityA = [82, 84, 85, 89, 91, 91, 92, 94, 99, 99,\n",
        "         105, 109, 109, 109, 110, 112, 112, 113, 114, 114]\n",
        "\n",
        "cityB = [90, 91, 91, 91, 95, 95, 99, 99, 108, 109,\n",
        "         109, 114, 115, 116, 117, 117, 128, 129, 130, 133]\n",
        "\n",
        "#perform two sample z-test\n",
        "ztest(cityA, cityB, value=0)"
      ]
    },
    {
      "cell_type": "markdown",
      "id": "61a8d0f0",
      "metadata": {
        "id": "61a8d0f0"
      },
      "source": [
        "The test statistic for the two sample z-test is **-1.9953** and the corresponding p-value is **0.0460**.\n",
        "\n",
        "Since this p-value is less than **0.05**, we have sufficient evidence to reject the null hypothesis. In other words, the mean IQ level is significantly different between the two cities."
      ]
    },
    {
      "cell_type": "markdown",
      "source": [
        "# Homework"
      ],
      "metadata": {
        "id": "bBr4RQPC1n4n"
      },
      "id": "bBr4RQPC1n4n"
    },
    {
      "cell_type": "markdown",
      "source": [
        "You are provided with a small data sample containing the information about the RR Lyrae like stars. There are 4 columns available:\n",
        "\n",
        "* `Type` - subtype of the star (RRAB or RRC)\n",
        "* `max` - maximum of the brightness of the star\n",
        "* `min` - minimum of the brightness of the star\n",
        "* `Period` - period of the variability, measured in days.\n",
        "\n",
        "Now: it's known that RRAB stars tend to have a longer periods as well as higher change of the amplitude. You goal is to check this fact and support your argument with a hypothesis testing.\n",
        "\n",
        "The data is available in `rrlyrae.csv` on Moodle.\n",
        "\n",
        "**Step 1:** load the dataset."
      ],
      "metadata": {
        "id": "G3KTLtedDrON"
      },
      "id": "G3KTLtedDrON"
    },
    {
      "cell_type": "code",
      "source": [
        "dataset = pd.read_csv(\"/content/rrlyrae.csv\")"
      ],
      "metadata": {
        "id": "xWv415KgGB1s"
      },
      "id": "xWv415KgGB1s",
      "execution_count": null,
      "outputs": []
    },
    {
      "cell_type": "markdown",
      "source": [
        "**Step 2:** check first 10 rows of the sample."
      ],
      "metadata": {
        "id": "I2_Ys1iWGtQy"
      },
      "id": "I2_Ys1iWGtQy"
    },
    {
      "cell_type": "code",
      "source": [
        "dataset.head(10)"
      ],
      "metadata": {
        "colab": {
          "base_uri": "https://localhost:8080/",
          "height": 363
        },
        "id": "kvGQds2AGrGt",
        "outputId": "181eb0e0-113f-4603-a508-b999dbc6d9b3"
      },
      "id": "kvGQds2AGrGt",
      "execution_count": null,
      "outputs": [
        {
          "output_type": "execute_result",
          "data": {
            "text/plain": [
              "   Type    max    min    Period\n",
              "0   RRC  13.63  13.99  0.332475\n",
              "1  RRAB  15.07  16.28  0.485529\n",
              "2  RRAB  14.89  15.85  0.483849\n",
              "3  RRAB  12.87  13.98  0.606860\n",
              "4  RRAB  14.10  14.43  0.710245\n",
              "5  RRAB  14.95  15.80  0.681754\n",
              "6  RRAB  14.34  15.06  0.427410\n",
              "7  RRAB  14.68  15.15  0.540640\n",
              "8   RRC  14.11  14.23  0.337106\n",
              "9  RRAB  14.72  15.45  0.530470"
            ],
            "text/html": [
              "\n",
              "  <div id=\"df-c27f61b9-590b-40cf-9a4a-6b12808a090b\" class=\"colab-df-container\">\n",
              "    <div>\n",
              "<style scoped>\n",
              "    .dataframe tbody tr th:only-of-type {\n",
              "        vertical-align: middle;\n",
              "    }\n",
              "\n",
              "    .dataframe tbody tr th {\n",
              "        vertical-align: top;\n",
              "    }\n",
              "\n",
              "    .dataframe thead th {\n",
              "        text-align: right;\n",
              "    }\n",
              "</style>\n",
              "<table border=\"1\" class=\"dataframe\">\n",
              "  <thead>\n",
              "    <tr style=\"text-align: right;\">\n",
              "      <th></th>\n",
              "      <th>Type</th>\n",
              "      <th>max</th>\n",
              "      <th>min</th>\n",
              "      <th>Period</th>\n",
              "    </tr>\n",
              "  </thead>\n",
              "  <tbody>\n",
              "    <tr>\n",
              "      <th>0</th>\n",
              "      <td>RRC</td>\n",
              "      <td>13.63</td>\n",
              "      <td>13.99</td>\n",
              "      <td>0.332475</td>\n",
              "    </tr>\n",
              "    <tr>\n",
              "      <th>1</th>\n",
              "      <td>RRAB</td>\n",
              "      <td>15.07</td>\n",
              "      <td>16.28</td>\n",
              "      <td>0.485529</td>\n",
              "    </tr>\n",
              "    <tr>\n",
              "      <th>2</th>\n",
              "      <td>RRAB</td>\n",
              "      <td>14.89</td>\n",
              "      <td>15.85</td>\n",
              "      <td>0.483849</td>\n",
              "    </tr>\n",
              "    <tr>\n",
              "      <th>3</th>\n",
              "      <td>RRAB</td>\n",
              "      <td>12.87</td>\n",
              "      <td>13.98</td>\n",
              "      <td>0.606860</td>\n",
              "    </tr>\n",
              "    <tr>\n",
              "      <th>4</th>\n",
              "      <td>RRAB</td>\n",
              "      <td>14.10</td>\n",
              "      <td>14.43</td>\n",
              "      <td>0.710245</td>\n",
              "    </tr>\n",
              "    <tr>\n",
              "      <th>5</th>\n",
              "      <td>RRAB</td>\n",
              "      <td>14.95</td>\n",
              "      <td>15.80</td>\n",
              "      <td>0.681754</td>\n",
              "    </tr>\n",
              "    <tr>\n",
              "      <th>6</th>\n",
              "      <td>RRAB</td>\n",
              "      <td>14.34</td>\n",
              "      <td>15.06</td>\n",
              "      <td>0.427410</td>\n",
              "    </tr>\n",
              "    <tr>\n",
              "      <th>7</th>\n",
              "      <td>RRAB</td>\n",
              "      <td>14.68</td>\n",
              "      <td>15.15</td>\n",
              "      <td>0.540640</td>\n",
              "    </tr>\n",
              "    <tr>\n",
              "      <th>8</th>\n",
              "      <td>RRC</td>\n",
              "      <td>14.11</td>\n",
              "      <td>14.23</td>\n",
              "      <td>0.337106</td>\n",
              "    </tr>\n",
              "    <tr>\n",
              "      <th>9</th>\n",
              "      <td>RRAB</td>\n",
              "      <td>14.72</td>\n",
              "      <td>15.45</td>\n",
              "      <td>0.530470</td>\n",
              "    </tr>\n",
              "  </tbody>\n",
              "</table>\n",
              "</div>\n",
              "    <div class=\"colab-df-buttons\">\n",
              "\n",
              "  <div class=\"colab-df-container\">\n",
              "    <button class=\"colab-df-convert\" onclick=\"convertToInteractive('df-c27f61b9-590b-40cf-9a4a-6b12808a090b')\"\n",
              "            title=\"Convert this dataframe to an interactive table.\"\n",
              "            style=\"display:none;\">\n",
              "\n",
              "  <svg xmlns=\"http://www.w3.org/2000/svg\" height=\"24px\" viewBox=\"0 -960 960 960\">\n",
              "    <path d=\"M120-120v-720h720v720H120Zm60-500h600v-160H180v160Zm220 220h160v-160H400v160Zm0 220h160v-160H400v160ZM180-400h160v-160H180v160Zm440 0h160v-160H620v160ZM180-180h160v-160H180v160Zm440 0h160v-160H620v160Z\"/>\n",
              "  </svg>\n",
              "    </button>\n",
              "\n",
              "  <style>\n",
              "    .colab-df-container {\n",
              "      display:flex;\n",
              "      gap: 12px;\n",
              "    }\n",
              "\n",
              "    .colab-df-convert {\n",
              "      background-color: #E8F0FE;\n",
              "      border: none;\n",
              "      border-radius: 50%;\n",
              "      cursor: pointer;\n",
              "      display: none;\n",
              "      fill: #1967D2;\n",
              "      height: 32px;\n",
              "      padding: 0 0 0 0;\n",
              "      width: 32px;\n",
              "    }\n",
              "\n",
              "    .colab-df-convert:hover {\n",
              "      background-color: #E2EBFA;\n",
              "      box-shadow: 0px 1px 2px rgba(60, 64, 67, 0.3), 0px 1px 3px 1px rgba(60, 64, 67, 0.15);\n",
              "      fill: #174EA6;\n",
              "    }\n",
              "\n",
              "    .colab-df-buttons div {\n",
              "      margin-bottom: 4px;\n",
              "    }\n",
              "\n",
              "    [theme=dark] .colab-df-convert {\n",
              "      background-color: #3B4455;\n",
              "      fill: #D2E3FC;\n",
              "    }\n",
              "\n",
              "    [theme=dark] .colab-df-convert:hover {\n",
              "      background-color: #434B5C;\n",
              "      box-shadow: 0px 1px 3px 1px rgba(0, 0, 0, 0.15);\n",
              "      filter: drop-shadow(0px 1px 2px rgba(0, 0, 0, 0.3));\n",
              "      fill: #FFFFFF;\n",
              "    }\n",
              "  </style>\n",
              "\n",
              "    <script>\n",
              "      const buttonEl =\n",
              "        document.querySelector('#df-c27f61b9-590b-40cf-9a4a-6b12808a090b button.colab-df-convert');\n",
              "      buttonEl.style.display =\n",
              "        google.colab.kernel.accessAllowed ? 'block' : 'none';\n",
              "\n",
              "      async function convertToInteractive(key) {\n",
              "        const element = document.querySelector('#df-c27f61b9-590b-40cf-9a4a-6b12808a090b');\n",
              "        const dataTable =\n",
              "          await google.colab.kernel.invokeFunction('convertToInteractive',\n",
              "                                                    [key], {});\n",
              "        if (!dataTable) return;\n",
              "\n",
              "        const docLinkHtml = 'Like what you see? Visit the ' +\n",
              "          '<a target=\"_blank\" href=https://colab.research.google.com/notebooks/data_table.ipynb>data table notebook</a>'\n",
              "          + ' to learn more about interactive tables.';\n",
              "        element.innerHTML = '';\n",
              "        dataTable['output_type'] = 'display_data';\n",
              "        await google.colab.output.renderOutput(dataTable, element);\n",
              "        const docLink = document.createElement('div');\n",
              "        docLink.innerHTML = docLinkHtml;\n",
              "        element.appendChild(docLink);\n",
              "      }\n",
              "    </script>\n",
              "  </div>\n",
              "\n",
              "\n",
              "<div id=\"df-758e5d18-8f75-4b95-ad14-d722fafd2749\">\n",
              "  <button class=\"colab-df-quickchart\" onclick=\"quickchart('df-758e5d18-8f75-4b95-ad14-d722fafd2749')\"\n",
              "            title=\"Suggest charts\"\n",
              "            style=\"display:none;\">\n",
              "\n",
              "<svg xmlns=\"http://www.w3.org/2000/svg\" height=\"24px\"viewBox=\"0 0 24 24\"\n",
              "     width=\"24px\">\n",
              "    <g>\n",
              "        <path d=\"M19 3H5c-1.1 0-2 .9-2 2v14c0 1.1.9 2 2 2h14c1.1 0 2-.9 2-2V5c0-1.1-.9-2-2-2zM9 17H7v-7h2v7zm4 0h-2V7h2v10zm4 0h-2v-4h2v4z\"/>\n",
              "    </g>\n",
              "</svg>\n",
              "  </button>\n",
              "\n",
              "<style>\n",
              "  .colab-df-quickchart {\n",
              "      --bg-color: #E8F0FE;\n",
              "      --fill-color: #1967D2;\n",
              "      --hover-bg-color: #E2EBFA;\n",
              "      --hover-fill-color: #174EA6;\n",
              "      --disabled-fill-color: #AAA;\n",
              "      --disabled-bg-color: #DDD;\n",
              "  }\n",
              "\n",
              "  [theme=dark] .colab-df-quickchart {\n",
              "      --bg-color: #3B4455;\n",
              "      --fill-color: #D2E3FC;\n",
              "      --hover-bg-color: #434B5C;\n",
              "      --hover-fill-color: #FFFFFF;\n",
              "      --disabled-bg-color: #3B4455;\n",
              "      --disabled-fill-color: #666;\n",
              "  }\n",
              "\n",
              "  .colab-df-quickchart {\n",
              "    background-color: var(--bg-color);\n",
              "    border: none;\n",
              "    border-radius: 50%;\n",
              "    cursor: pointer;\n",
              "    display: none;\n",
              "    fill: var(--fill-color);\n",
              "    height: 32px;\n",
              "    padding: 0;\n",
              "    width: 32px;\n",
              "  }\n",
              "\n",
              "  .colab-df-quickchart:hover {\n",
              "    background-color: var(--hover-bg-color);\n",
              "    box-shadow: 0 1px 2px rgba(60, 64, 67, 0.3), 0 1px 3px 1px rgba(60, 64, 67, 0.15);\n",
              "    fill: var(--button-hover-fill-color);\n",
              "  }\n",
              "\n",
              "  .colab-df-quickchart-complete:disabled,\n",
              "  .colab-df-quickchart-complete:disabled:hover {\n",
              "    background-color: var(--disabled-bg-color);\n",
              "    fill: var(--disabled-fill-color);\n",
              "    box-shadow: none;\n",
              "  }\n",
              "\n",
              "  .colab-df-spinner {\n",
              "    border: 2px solid var(--fill-color);\n",
              "    border-color: transparent;\n",
              "    border-bottom-color: var(--fill-color);\n",
              "    animation:\n",
              "      spin 1s steps(1) infinite;\n",
              "  }\n",
              "\n",
              "  @keyframes spin {\n",
              "    0% {\n",
              "      border-color: transparent;\n",
              "      border-bottom-color: var(--fill-color);\n",
              "      border-left-color: var(--fill-color);\n",
              "    }\n",
              "    20% {\n",
              "      border-color: transparent;\n",
              "      border-left-color: var(--fill-color);\n",
              "      border-top-color: var(--fill-color);\n",
              "    }\n",
              "    30% {\n",
              "      border-color: transparent;\n",
              "      border-left-color: var(--fill-color);\n",
              "      border-top-color: var(--fill-color);\n",
              "      border-right-color: var(--fill-color);\n",
              "    }\n",
              "    40% {\n",
              "      border-color: transparent;\n",
              "      border-right-color: var(--fill-color);\n",
              "      border-top-color: var(--fill-color);\n",
              "    }\n",
              "    60% {\n",
              "      border-color: transparent;\n",
              "      border-right-color: var(--fill-color);\n",
              "    }\n",
              "    80% {\n",
              "      border-color: transparent;\n",
              "      border-right-color: var(--fill-color);\n",
              "      border-bottom-color: var(--fill-color);\n",
              "    }\n",
              "    90% {\n",
              "      border-color: transparent;\n",
              "      border-bottom-color: var(--fill-color);\n",
              "    }\n",
              "  }\n",
              "</style>\n",
              "\n",
              "  <script>\n",
              "    async function quickchart(key) {\n",
              "      const quickchartButtonEl =\n",
              "        document.querySelector('#' + key + ' button');\n",
              "      quickchartButtonEl.disabled = true;  // To prevent multiple clicks.\n",
              "      quickchartButtonEl.classList.add('colab-df-spinner');\n",
              "      try {\n",
              "        const charts = await google.colab.kernel.invokeFunction(\n",
              "            'suggestCharts', [key], {});\n",
              "      } catch (error) {\n",
              "        console.error('Error during call to suggestCharts:', error);\n",
              "      }\n",
              "      quickchartButtonEl.classList.remove('colab-df-spinner');\n",
              "      quickchartButtonEl.classList.add('colab-df-quickchart-complete');\n",
              "    }\n",
              "    (() => {\n",
              "      let quickchartButtonEl =\n",
              "        document.querySelector('#df-758e5d18-8f75-4b95-ad14-d722fafd2749 button');\n",
              "      quickchartButtonEl.style.display =\n",
              "        google.colab.kernel.accessAllowed ? 'block' : 'none';\n",
              "    })();\n",
              "  </script>\n",
              "</div>\n",
              "    </div>\n",
              "  </div>\n"
            ]
          },
          "metadata": {},
          "execution_count": 22
        }
      ]
    },
    {
      "cell_type": "markdown",
      "source": [
        "**Step 3:** compute the amplitude. Notice that the [magnitude](https://en.wikipedia.org/wiki/Magnitude_(astronomy)) scale is reversed. So, the minumum of the brightness has a larger value of magnitude."
      ],
      "metadata": {
        "id": "UZroFHGsGQst"
      },
      "id": "UZroFHGsGQst"
    },
    {
      "cell_type": "code",
      "source": [
        "amplitude_RRC = []\n",
        "amplitude_RRAB = []\n",
        "for i in range(len(dataset)):\n",
        "    diff = abs(dataset[\"max\"][i] - dataset[\"min\"][i])\n",
        "    if dataset[\"Type\"][i] == \"RRC\":\n",
        "        amplitude_RRC.append(diff)\n",
        "    else:\n",
        "        amplitude_RRAB.append(diff)\n",
        "overall_amplitude =   abs(min(dataset[\"max\"]) - max(dataset[\"min\"]))\n",
        "print(overall_amplitude)"
      ],
      "metadata": {
        "id": "fcIYTjFcG0Fz",
        "colab": {
          "base_uri": "https://localhost:8080/"
        },
        "outputId": "7cdf10c6-5f4c-4b08-8527-b757a0c4dfbd"
      },
      "id": "fcIYTjFcG0Fz",
      "execution_count": null,
      "outputs": [
        {
          "output_type": "stream",
          "name": "stdout",
          "text": [
            "10.070000000000002\n"
          ]
        }
      ]
    },
    {
      "cell_type": "markdown",
      "source": [
        "**Step 4:** plot histograms for amplitude and period. Don't forget to add labels & titles to your histograms."
      ],
      "metadata": {
        "id": "qx_3X3_jG_jE"
      },
      "id": "qx_3X3_jG_jE"
    },
    {
      "cell_type": "code",
      "source": [
        "period_RRC = []\n",
        "period_RRAB = []\n",
        "for i in range(len(dataset)):\n",
        "    if dataset[\"Type\"][i] == \"RRC\":\n",
        "        period_RRC.append(dataset[\"Period\"][i])\n",
        "    else:\n",
        "        period_RRAB.append(dataset[\"Period\"][i])\n",
        "plt.hist(period_RRC,color='orange', label=\"RRC\")\n",
        "plt.hist(period_RRAB,label=\"RRAB\")\n",
        "plt.xlabel('Period')\n",
        "plt.ylabel('Frequency')\n",
        "plt.title('Period')\n",
        "plt.legend()"
      ],
      "metadata": {
        "colab": {
          "base_uri": "https://localhost:8080/",
          "height": 883
        },
        "id": "Q9sEPFm6HTZz",
        "outputId": "c8904e05-30b4-4740-a1ef-42b111b83fc2"
      },
      "id": "Q9sEPFm6HTZz",
      "execution_count": null,
      "outputs": [
        {
          "output_type": "stream",
          "name": "stdout",
          "text": [
            "0.0036262242301551254\n"
          ]
        },
        {
          "output_type": "display_data",
          "data": {
            "text/plain": [
              "<Figure size 1000x1000 with 1 Axes>"
            ],
            "image/png": "[encoded data removed]"
          },
          "metadata": {}
        }
      ]
    },
    {
      "cell_type": "code",
      "source": [
        "plt.hist(amplitude_RRC,color='Orange',label='RRC')\n",
        "plt.hist(amplitude_RRAB,label='RRAB',alpha=0.5)\n",
        "plt.xlabel(\"Amplitude\")\n",
        "plt.ylabel(\"Frequency\")\n",
        "plt.title(\"Amplitude\")\n",
        "plt.legend()"
      ],
      "metadata": {
        "colab": {
          "base_uri": "https://localhost:8080/",
          "height": 883
        },
        "id": "Ez8a2EnLHddQ",
        "outputId": "07a0c7cb-12d5-4a8d-e992-e9b527506629"
      },
      "id": "Ez8a2EnLHddQ",
      "execution_count": null,
      "outputs": [
        {
          "output_type": "execute_result",
          "data": {
            "text/plain": [
              "<matplotlib.legend.Legend at 0x792e996ae860>"
            ]
          },
          "metadata": {},
          "execution_count": 72
        },
        {
          "output_type": "display_data",
          "data": {
            "text/plain": [
              "<Figure size 1000x1000 with 1 Axes>"
            ],
            "image/png": "[encoded data removed]"
          },
          "metadata": {}
        }
      ]
    },
    {
      "cell_type": "markdown",
      "source": [
        "***Hint:*** what can you say about the variance in two groups for each parameter?"
      ],
      "metadata": {
        "id": "_gS7ZWgdI5IT"
      },
      "id": "_gS7ZWgdI5IT"
    },
    {
      "cell_type": "markdown",
      "source": [
        "## Testing Periods\n",
        "Formulate the null and alternative hypothesis:\n",
        "\n",
        "$H_0$: <font> RRAB stars have a longer periods then RRC stars </font>\n",
        "\n",
        "$H_1$: <font> RRAB stars do not have a longer periods then RRC stars </font>\n",
        "\n",
        "Test your hypothesis using t-test at significance level $\\alpha=0.01$."
      ],
      "metadata": {
        "id": "JocsU1UrIOSo"
      },
      "id": "JocsU1UrIOSo"
    },
    {
      "cell_type": "code",
      "source": [
        "print(np.var(period_RRC))\n",
        "print(np.var(period_RRAB))\n",
        "# Variances are different, therefore we set equal_ver=False\n",
        "stats.ttest_ind(a=period_RRC,\n",
        "                b = period_RRAB,\n",
        "                equal_var=False)"
      ],
      "metadata": {
        "colab": {
          "base_uri": "https://localhost:8080/"
        },
        "id": "5Kykj26lJOxd",
        "outputId": "56611ed5-0244-4372-fed8-902b7bf592d0"
      },
      "id": "5Kykj26lJOxd",
      "execution_count": null,
      "outputs": [
        {
          "output_type": "stream",
          "name": "stdout",
          "text": [
            "0.0036262242301551254\n",
            "0.008546173369278053\n"
          ]
        },
        {
          "output_type": "execute_result",
          "data": {
            "text/plain": [
              "TtestResult(statistic=-14.208392596939989, pvalue=3.813316597745885e-17, df=39.64311496359916)"
            ]
          },
          "metadata": {},
          "execution_count": 75
        }
      ]
    },
    {
      "cell_type": "markdown",
      "source": [
        "**Conclusion:** <font> Our p-value is much less then 1%, therefore we reject the null hypothesis. </font>"
      ],
      "metadata": {
        "id": "4s7kfVvKJSRG"
      },
      "id": "4s7kfVvKJSRG"
    },
    {
      "cell_type": "markdown",
      "source": [
        "## Testing amplitudes\n",
        "Formulate the null and alternative hypothesis:\n",
        "\n",
        "$H_0$: <font> RRAB stars amplitude differs from RRC stars amplitude </font>\n",
        "\n",
        "$H_1$: <font> RRAB stars amplitude doesn't differs from RRC stars amplitude </font>\n",
        "\n",
        "Test your hypothesis using t-test at significance level $\\alpha=0.01$."
      ],
      "metadata": {
        "id": "5We4aVsNJpwG"
      },
      "id": "5We4aVsNJpwG"
    },
    {
      "cell_type": "code",
      "source": [
        "print(np.var(amplitude_RRC))\n",
        "print(np.var(amplitude_RRAB))\n",
        "# Variances are different, therefore we set equal_ver=False\n",
        "stats.ttest_ind(a=amplitude_RRAB,\n",
        "                b = amplitude_RRC,\n",
        "                equal_var=False)"
      ],
      "metadata": {
        "colab": {
          "base_uri": "https://localhost:8080/"
        },
        "outputId": "dde394fb-044a-4eac-a5a2-468e5678c31f",
        "id": "mYs3UGqcJpwm"
      },
      "execution_count": null,
      "outputs": [
        {
          "output_type": "stream",
          "name": "stdout",
          "text": [
            "0.03154958448753466\n",
            "0.09315297058375245\n"
          ]
        },
        {
          "output_type": "execute_result",
          "data": {
            "text/plain": [
              "TtestResult(statistic=9.75126800999531, pvalue=1.0465721231875983e-12, df=45.356144593100574)"
            ]
          },
          "metadata": {},
          "execution_count": 77
        }
      ],
      "id": "mYs3UGqcJpwm"
    },
    {
      "cell_type": "markdown",
      "source": [
        "**Conclusion:** <font> Our p-value is much less then 1%, therefore we reject the null hypothesis. </font>"
      ],
      "metadata": {
        "id": "C7SR9hSRJpwn"
      },
      "id": "C7SR9hSRJpwn"
    }
  ],
  "metadata": {
    "kernelspec": {
      "display_name": "Python 3 (ipykernel)",
      "language": "python",
      "name": "python3"
    },
    "language_info": {
      "codemirror_mode": {
        "name": "ipython",
        "version": 3
      },
      "file_extension": ".py",
      "mimetype": "text/x-python",
      "name": "python",
      "nbconvert_exporter": "python",
      "pygments_lexer": "ipython3",
      "version": "3.9.7"
    },
    "toc": {
      "base_numbering": 1,
      "nav_menu": {},
      "number_sections": true,
      "sideBar": true,
      "skip_h1_title": false,
      "title_cell": "Table of Contents",
      "title_sidebar": "Contents",
      "toc_cell": false,
      "toc_position": {},
      "toc_section_display": true,
      "toc_window_display": false
    },
    "colab": {
      "provenance": []
    }
  },
  "nbformat": 4,
  "nbformat_minor": 5
}