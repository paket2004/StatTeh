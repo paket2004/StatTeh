{
  "nbformat": 4,
  "nbformat_minor": 0,
  "metadata": {
    "colab": {
      "provenance": []
    },
    "kernelspec": {
      "name": "python3",
      "display_name": "Python 3"
    },
    "language_info": {
      "name": "python"
    }
  },
  "cells": [
    {
      "cell_type": "markdown",
      "source": [
        "# Metropolis-Hastings algorithm.\n"
      ],
      "metadata": {
        "id": "EVs28FDH4Vkh"
      }
    },
    {
      "cell_type": "markdown",
      "source": [
        "## Markov Chains: quick recap"
      ],
      "metadata": {
        "id": "6Asis0-aVpim"
      }
    },
    {
      "cell_type": "markdown",
      "source": [
        "Let $X$ be a finite set. A ***Markov chain*** is defined by a matrix\n",
        "$K(x, y)$ with $K(x, y) ≥ 0$, $∑_y K(x, y) = 1$ for each $x$. Thus each row is a probability measure so $K$ can direct a kind of random walk: from $x$, choose $y$ with probability $K(x, y)$; from $y$ choose $z$ with probability $K(y, z)$, and so on."
      ],
      "metadata": {
        "id": "6wRT14oWV1cY"
      }
    },
    {
      "cell_type": "markdown",
      "source": [
        "All of the Markov chains considered in this article have *stationary distributions* $π(x) > 0$, $∑_x π(x) = 1$ with $π$ satisfying:\n",
        "\n",
        "$$\\sum_x \\pi(x)K(x,y) = \\pi(y).$$"
      ],
      "metadata": {
        "id": "D97QFnOwWLXx"
      }
    },
    {
      "cell_type": "markdown",
      "source": [
        "## Metropolis-Hastings algorithm"
      ],
      "metadata": {
        "id": "ymgrHE2fW5sz"
      }
    },
    {
      "cell_type": "markdown",
      "source": [
        "The Metropolis-Hastings algorithm is perhaps the most popular example of a [Markov chain Monte Carlo](https://en.wikipedia.org/wiki/Markov_chain_Monte_Carlo) (MCMC) method in statistics. The basic problem that it solves is the sampling from some arbitrary probability distribution $p(x)$. In many cases, you know how the analytical representation of a probability $p(x)$, but you don’t know how to generate a random sample from this distribution, $x \\sim p(x)$.\n",
        "\n",
        "The idea behind this algorithm is to define a Markov chain over possible values, in such a way that the stationary distribution of the Markov chain is in fact $p(x)$. That is, what we’re going to do is use a Markov chain to generate a sequence of $x$ values, denoted $(x_0, x_1, \\dots, x_n)$, in such a way that as $n → ∞$, we can guarantee that $x_n \\sim p(x)$.\n",
        "\n",
        "Here are the step-by-step instructions for the Metropolis-Hastings algorithm:\n",
        "\n",
        "1. Start with an initial state, $x_0$, and a proposal distribution, $q(x'|x)$, that generates candidate states $x'$ from the current state $x$.\n",
        "\n",
        "2. For each iteration $i$:\n",
        "  - a. Generate a candidate state x' from the proposal distribution, $q(x'|x_i)$, the proposal distribution should be centered at the currently accepted sample.\n",
        "  - b. Calculate the acceptance ratio, $\\alpha = min(1, p(x')/p(x_i))$, where $p(x)$ is the target probability distribution. If $\\alpha >= 1$, accept the candidate state $x'$, i.e., $x_{i+1} = x'$. If $\\alpha < 1$, accept the candidate state $x'$ with probability alpha, i.e., generate a random number $u$ from a uniform distribution on $[0,1]$, and if $u < \\alpha$, accept $x'$, otherwise reject $x'$ and set $x_{i+1} = x_i$.\n",
        "  - c. Repeat step (a) and (b) for a fixed number of iterations or until convergence criteria are met.\n",
        "\n",
        "3. The resulting sequence of accepted states, $x_1, x_2, ..., x_n$, represents a Markov chain with a stationary distribution that is approximately the target distribution $p(x)$.\n",
        "\n",
        "It is important to choose an appropriate proposal distribution that balances the trade-off between exploration of the state space and acceptance rate. The Metropolis-Hastings algorithm also requires a burn-in period to allow the Markov chain to converge to the stationary distribution, and the convergence of the Markov chain should be assessed using diagnostic tests."
      ],
      "metadata": {
        "id": "ZNhZUQum1mSq"
      }
    },
    {
      "cell_type": "markdown",
      "source": [
        "# Task: The Markov Chain Monte Carlo revolution"
      ],
      "metadata": {
        "id": "nXkMYR4_Hrhz"
      }
    },
    {
      "cell_type": "markdown",
      "source": [
        "Stanford’s Statistics Department has a drop-in consulting service. One day, a psychologist from the state prison system showed up with a collection of coded messages. The problem was to decode these messages. Marc (Stanford student) guessed that the code was a simple substitution cipher, each symbol standing for a letter, number, punctuation mark or space. Thus, there is an unknown function $f$:\n",
        "\n",
        "$$f: \\{\\text{code space}\\} → \\{\\text{usual alphabet}\\}.$$"
      ],
      "metadata": {
        "id": "pdBbo5gDH0CR"
      }
    },
    {
      "cell_type": "code",
      "source": [
        "import time\n",
        "import numpy as np\n",
        "import matplotlib.pyplot as plt\n",
        "import sys\n",
        "import random\n",
        "from copy import deepcopy\n",
        "from copy import copy\n",
        "\n",
        "%matplotlib inline\n",
        "plt.rcParams['figure.figsize'] = (10.0, 8.0) # set default size of plots\n",
        "plt.rcParams['image.interpolation'] = 'nearest'\n",
        "plt.rcParams['image.cmap'] = 'gray'\n",
        "\n",
        "# for auto-reloading external modules\n",
        "# see http://stackoverflow.com/questions/1907993/autoreload-of-modules-in-ipython\n",
        "%load_ext autoreload\n",
        "%autoreload 2"
      ],
      "metadata": {
        "id": "M75nDvvVjnZq",
        "colab": {
          "base_uri": "https://localhost:8080/"
        },
        "outputId": "e3ca8e51-0b39-4b0d-8cfd-a48f8b6d9d5b"
      },
      "execution_count": 87,
      "outputs": [
        {
          "output_type": "stream",
          "name": "stdout",
          "text": [
            "The autoreload extension is already loaded. To reload it, use:\n",
            "  %reload_ext autoreload\n"
          ]
        }
      ]
    },
    {
      "cell_type": "markdown",
      "source": [
        "One standard approach to decrypting is to use the statistics of written English to guess at probable choices for $f$ , try these out, and see if the decrypted messages make sense. To get the statistics, Marc downloaded a standard text (\"War and Peace\" and \"Hamlet\") and recorded the first-order transitions: the proportion of consecutive text symbols from $x$ to $y$. This gives two matrices $M(x, y)$ of transitions."
      ],
      "metadata": {
        "id": "T22MzKQdLCc1"
      }
    },
    {
      "cell_type": "markdown",
      "source": [
        "1. <font color='red'>TODO:</font> write a function *compute_statistics* that calculates statistics for a given textual file."
      ],
      "metadata": {
        "id": "R8okYKMlBmdV"
      }
    },
    {
      "cell_type": "code",
      "source": [
        "def compute_statistics(filename):\n",
        "    \"\"\"\n",
        "    Returns the statistics for a text file.\n",
        "\n",
        "    Arguments:\n",
        "    filename: name/path to the file, it should be simple plain text file\n",
        "\n",
        "    Returns:\n",
        "    char_to_ix: mapping from character to index\n",
        "\n",
        "    ix_to_char: mapping from index to character\n",
        "\n",
        "    transition_probabilities[i,j]: gives the probability of j following i\n",
        "\n",
        "    frequency_statistics[i]: gives number of times character i appears in the document\n",
        "    \"\"\"\n",
        "    #YOUR CODE IS HERE\n",
        "    with open(filename) as f:\n",
        "        content = f.read()\n",
        "    content_set = set(content)\n",
        "    content_list = list(content_set)\n",
        "    char_to_ix ={}\n",
        "    ix_to_char = {}\n",
        "    for i in range(len(content_list)):\n",
        "        char_to_ix[content_list[i]] = i\n",
        "\n",
        "    for i in range(len(content_list)):\n",
        "        ix_to_char[i] = content_list[i]\n",
        "\n",
        "    frequency_statistics = {}\n",
        "\n",
        "    for i in range(len(content)):\n",
        "        if char_to_ix[content[i]] not in frequency_statistics.keys():\n",
        "            frequency_statistics[char_to_ix[content[i]]] = 1\n",
        "        else:\n",
        "            frequency_statistics[char_to_ix[content[i]]] += 1\n",
        "\n",
        "\n",
        "    count_matrix = np.zeros((len(content_list), len(content_list)))\n",
        "\n",
        "    transition_matrix = np.zeros((len(content_list), len(content_list)))\n",
        "    for i in range(len(content) - 1):\n",
        "        current_state = content_list.index(content[i])\n",
        "        next_state = content_list.index(content[i + 1])\n",
        "        count_matrix[current_state][next_state] += 1\n",
        "\n",
        "    for i in range(len(content_list)):\n",
        "        row_sum = np.sum(count_matrix[i, :])\n",
        "        if row_sum > 0:\n",
        "            transition_matrix[i, :] = count_matrix[i, :] / row_sum\n",
        "    return char_to_ix, ix_to_char, transition_matrix, frequency_statistics"
      ],
      "metadata": {
        "id": "JxP5FtmikfK4"
      },
      "execution_count": 88,
      "outputs": []
    },
    {
      "cell_type": "code",
      "source": [
        "filename = \"warpeace_input.txt\"\n",
        "char_to_ix, ix_to_char, tr, fr = compute_statistics(filename)\n",
        "assert len(char_to_ix) == 83\n",
        "# assert char_to_ix['q'] == 26\n",
        "filename_2 = \"shakespeare_input.txt\"\n",
        "char_to_ix_2, ix_to_char_2, tr_2, fr_2 = compute_statistics(filename_2)\n",
        "assert len(ix_to_char_2) == 67\n",
        "# assert ix_to_char_2[9] == 'H'"
      ],
      "metadata": {
        "id": "0Lcry6GujncC"
      },
      "execution_count": 89,
      "outputs": []
    },
    {
      "cell_type": "markdown",
      "source": [
        "2. <font color='red'>TODO:</font> plot the frequency statistics for characters."
      ],
      "metadata": {
        "id": "4JjjJN68Caic"
      }
    },
    {
      "cell_type": "code",
      "source": [
        "fr_stat = {}\n",
        "fr_stat_2 = {}\n",
        "# print(fr)\n",
        "# print(char_to_ix)\n",
        "chars = list('abcdefghijklmnopqrstuvwxyzABCDEFGHIJKLMNOPQRSTUVWXYZ')\n",
        "#YOUR CODE IS HERE\n",
        "for i in range(len(chars)):\n",
        "    fr_stat[chars[i]] = fr[char_to_ix[chars[i]]]\n",
        "    fr_stat_2[chars[i]] = fr_2[char_to_ix_2[chars[i]]]\n",
        "plt.plot(fr_stat.keys(), fr_stat.values())\n",
        "plt.plot(fr_stat_2.keys(), fr_stat_2.values())\n",
        "plt.title(\"Frequency count\")\n",
        "plt.xlabel(\"Letters\")\n",
        "plt.ylabel(\"Number of entries\")\n",
        "plt.show()"
      ],
      "metadata": {
        "colab": {
          "base_uri": "https://localhost:8080/",
          "height": 718
        },
        "id": "dsSsB4wyjneq",
        "outputId": "fb05153b-e72d-4e95-be44-f3904434cb97"
      },
      "execution_count": 90,
      "outputs": [
        {
          "output_type": "display_data",
          "data": {
            "text/plain": [
              "<Figure size 1000x800 with 1 Axes>"
            ],
            "image/png": "[encoded data removed]"
          },
          "metadata": {}
        }
      ]
    },
    {
      "cell_type": "markdown",
      "source": [
        "## Text encryption"
      ],
      "metadata": {
        "id": "Nx3UOfgr8h0w"
      }
    },
    {
      "cell_type": "markdown",
      "source": [
        "To investigate this problem, Marc tried the algorithm out on a problem to which he knew the answer. First of all he encrypted the piece of Shakespeare’s Hamlet."
      ],
      "metadata": {
        "id": "6JQdnf-eK8Nr"
      }
    },
    {
      "cell_type": "markdown",
      "source": [
        "3. <font color='red'>TODO:</font> write a function *generate_random_permutation_map* that generates a random permutation map for given character list without digits."
      ],
      "metadata": {
        "id": "G66YM31uCyQp"
      }
    },
    {
      "cell_type": "code",
      "source": [
        "def az_list():\n",
        "    \"\"\"\n",
        "    Returns a default a-zA-Z characters list\n",
        "    \"\"\"\n",
        "    cx = list('abcdefghijklmnopqrstuvwxyzABCDEFGHIJKLMNOPQRSTUVWXYZ')\n",
        "    return cx\n",
        "\n",
        "def generate_identity_p_map(chars):\n",
        "    \"\"\"\n",
        "    Generates an identity permutation map for given list of characters\n",
        "\n",
        "    Arguments:\n",
        "    chars: list of characters\n",
        "\n",
        "    Returns:\n",
        "    p_map: an identity permutation map\n",
        "\n",
        "    \"\"\"\n",
        "    p_map = {}\n",
        "    for c in chars:\n",
        "        p_map[c] = c\n",
        "\n",
        "    return p_map\n",
        "\n",
        "def generate_random_permutation_map(chars):\n",
        "    \"\"\"\n",
        "    Generate a random permutation map for given character list. Only allowed permutations\n",
        "    are alphabetical ones.\n",
        "\n",
        "    Arguments:\n",
        "    chars: list of characters\n",
        "\n",
        "    Returns:\n",
        "    p_map: a randomly generated permutation map for each character\n",
        "    \"\"\"\n",
        "    #YOUR CODE IS HERE\n",
        "    p_map = {}\n",
        "    chars_list = list(chars)\n",
        "    # alph_list_to_choose = az_list()\n",
        "    az_list = np.random.permutation(az_list())\n",
        "    finish = len(chars)\n",
        "    ind = 0\n",
        "    for c in chars_list:\n",
        "        if c in az_list:\n",
        "            p_map[c] = az_list[i]\n",
        "            ind += 1\n",
        "        else:\n",
        "            p_map[c] = c\n",
        "    return p_map"
      ],
      "metadata": {
        "id": "kvF9Zgcx1Ygk"
      },
      "execution_count": 95,
      "outputs": []
    },
    {
      "cell_type": "code",
      "source": [
        "p_map = generate_random_permutation_map(char_to_ix.keys())\n",
        "assert len(p_map) == 83\n"
      ],
      "metadata": {
        "id": "XhWMjasa6aOh"
      },
      "execution_count": 96,
      "outputs": []
    },
    {
      "cell_type": "markdown",
      "source": [
        "4. <font color='red'>TODO:</font> write a function *scramble_test* that scrambles a text given a permutation map."
      ],
      "metadata": {
        "id": "szNMmK-DDXkd"
      }
    },
    {
      "cell_type": "code",
      "source": [
        "def scramble_text(text, p_map):\n",
        "    \"\"\"\n",
        "    Scrambles a text given a permutation map\n",
        "\n",
        "    Arguments:\n",
        "    text: text to scramble, list of characters\n",
        "\n",
        "    p_map: permutation map to scramble text based upon\n",
        "\n",
        "    Returns:\n",
        "    text_2: the scrambled text\n",
        "    \"\"\"\n",
        "    #YOUR CODE IS HERE\n",
        "    text_2 = ''\n",
        "    for char in text:\n",
        "        text_2 += p_map[char]\n",
        "    return text_2"
      ],
      "metadata": {
        "id": "UD00XdfF5qZF"
      },
      "execution_count": 97,
      "outputs": []
    },
    {
      "cell_type": "code",
      "source": [
        "def pretty_print(text):\n",
        "    print(''.join(text[1:500]),'...')"
      ],
      "metadata": {
        "id": "gxMmtKiW89v-"
      },
      "execution_count": 98,
      "outputs": []
    },
    {
      "cell_type": "code",
      "source": [
        "s = list(open(filename_2, 'r').read()[530:1000])\n",
        "\n",
        "t = list(s)\n",
        "p_map = generate_random_permutation_map(char_to_ix.keys())\n",
        "p_map_reverse = {c: x for x, c in p_map.items()}\n",
        "scrambled_text = scramble_text(t, p_map)\n",
        "print('Original text:')\n",
        "pretty_print(t)\n",
        "print('\\n')\n",
        "print('Encrypted text:')\n",
        "pretty_print(scrambled_text)"
      ],
      "metadata": {
        "colab": {
          "base_uri": "https://localhost:8080/"
        },
        "id": "UTsjwD4r8ypw",
        "outputId": "66377a83-fe2d-495e-f49c-6e9305994549"
      },
      "execution_count": 99,
      "outputs": [
        {
          "output_type": "stream",
          "name": "stdout",
          "text": [
            "Original text:\n",
            "\n",
            "What authority surfeits on would relieve us: if they\n",
            "would yield us but the superfluity, while it were\n",
            "wholesome, we might guess they relieved us humanely;\n",
            "but they think we are too dear: the leanness that\n",
            "afflicts us, the object of our misery, is as an\n",
            "inventory to particularise their abundance; our\n",
            "sufferance is a gain to them Let us revenge this with\n",
            "our pikes, ere we become rakes: for the gods know I\n",
            "speak this in hunger for bread, not in thirst for revenge.\n",
            "\n",
            " ...\n",
            "\n",
            "\n",
            "Encrypted text:\n",
            "\n",
            "mSkL krLSVgALI nrgBZALn Vl tVrXe gZXAZDZ rn: AB LSZI\n",
            "tVrXe IAZXe rn zrL LSZ nrWZgBXrALI, tSAXZ AL tZgZ\n",
            "tSVXZnVxZ, tZ xARSL RrZnn LSZI gZXAZDZe rn SrxklZXI;\n",
            "zrL LSZI LSAlv tZ kgZ LVV eZkg: LSZ XZkllZnn LSkL\n",
            "kBBXAKLn rn, LSZ VzhZKL VB Vrg xAnZgI, An kn kl\n",
            "AlDZlLVgI LV WkgLAKrXkgAnZ LSZAg kzrleklKZ; Vrg\n",
            "nrBBZgklKZ An k RkAl LV LSZx dZL rn gZDZlRZ LSAn tALS\n",
            "Vrg WAvZn, ZgZ tZ zZKVxZ gkvZn: BVg LSZ RVen vlVt E\n",
            "nWZkv LSAn Al SrlRZg BVg zgZke, lVL Al LSAgnL BVg gZDZlRZ.\n",
            "\n",
            " ...\n"
          ]
        }
      ]
    },
    {
      "cell_type": "markdown",
      "source": [
        "## Text decryption"
      ],
      "metadata": {
        "id": "qzJWi7Xw9rMW"
      }
    },
    {
      "cell_type": "markdown",
      "source": [
        "One may associate a plausibility to $f$ via\n",
        "\n",
        "$$Pl(f) = ∏ M(f(s_i), f(s_{i+1})),$$\n",
        "\n",
        "where $s_i$ runs over consecutive symbols in the coded message. Functions $f$ which have high values of $Pl(f)$ are good candidates for decryption. Maximizing $f$ were searched for by running the following Markov chain Monte Carlo algorithm:\n",
        "\n",
        "\n",
        "\n",
        "*   Start with a preliminary guess, say $f$;\n",
        "*   Compute $Pl(f)$;\n",
        "*   Change to $f_∗$ by making a random transposition of the values $f$ assigns to two symbols;\n",
        "*   Compute $Pl(f_∗)$; if this is larger than $Pl(f)$, accept $f_∗$;\n",
        "*   If not, flip a $Pl(f_∗)/Pl(f)$ coin; if it comes up heads, accept $f_∗$;\n",
        "*   If the coin toss comes up tails, stay at $f$."
      ],
      "metadata": {
        "id": "Fqs4Ap-eLNo7"
      }
    },
    {
      "cell_type": "markdown",
      "source": [
        "5. <font color='red'>TODO:</font> write a function *compute_transition_counts* that computes transition counts for a given text and mapping of letters to indices."
      ],
      "metadata": {
        "id": "otLXV8PVDnjY"
      }
    },
    {
      "cell_type": "code",
      "source": [
        "def compute_transition_counts(text, char_to_ix):\n",
        "    \"\"\"\n",
        "    Computes transition counts for a given text\n",
        "\n",
        "    Arguments:\n",
        "    text: Text as a list of characters\n",
        "\n",
        "    char_to_ix: character to index mapping\n",
        "\n",
        "    Returns:\n",
        "    transition_counts: transition_counts[i, j] gives number of times character j follows i\n",
        "    \"\"\"\n",
        "    #YOUR CODE IS HERE\n",
        "    transition_counts = np.zeros((len(char_to_ix), len(char_to_ix)))\n",
        "    # transition_counts = np.zeros(83,83)\n",
        "    for i in range(len(text) - 1):\n",
        "        transition_counts[char_to_ix[text[i]]][char_to_ix[text[i + 1]]] += 1\n",
        "    return transition_counts"
      ],
      "metadata": {
        "id": "NCodvde5__Np"
      },
      "execution_count": 100,
      "outputs": []
    },
    {
      "cell_type": "code",
      "source": [
        "transition_counts = compute_transition_counts(scrambled_text, char_to_ix)\n",
        "assert transition_counts.shape[0] == len(char_to_ix)\n",
        "transition_counts\n",
        "# for i in range(len(transtion_counts)):\n",
        "#     for j in range(len(transtion_counts)):\n",
        "#         if transtion_counts[i][j] != 0:\n",
        "#             print(transtion_counts[i][j])"
      ],
      "metadata": {
        "colab": {
          "base_uri": "https://localhost:8080/"
        },
        "id": "JH-pg5C8__0o",
        "outputId": "668ce07b-c868-466e-f90a-38a38671439c"
      },
      "execution_count": 101,
      "outputs": [
        {
          "output_type": "execute_result",
          "data": {
            "text/plain": [
              "array([[0., 0., 0., ..., 0., 0., 0.],\n",
              "       [0., 2., 0., ..., 0., 0., 0.],\n",
              "       [0., 0., 0., ..., 0., 0., 0.],\n",
              "       ...,\n",
              "       [0., 0., 0., ..., 0., 0., 0.],\n",
              "       [0., 2., 0., ..., 0., 0., 0.],\n",
              "       [0., 0., 0., ..., 0., 0., 0.]])"
            ]
          },
          "metadata": {},
          "execution_count": 101
        }
      ]
    },
    {
      "cell_type": "code",
      "source": [
        "def compute_log_probability_by_counts(transition_counts, text, permutation_map, char_to_ix, frequency_statistics, transition_matrix):\n",
        "    \"\"\"\n",
        "    Computes the log probability of a text under a given permutation map (switching the\n",
        "    character c from permutation_map[c]), given the transition counts and the text\n",
        "\n",
        "    Arguments:\n",
        "\n",
        "    transition_counts: a matrix such that transition_counts[i, j] gives the counts of times j follows i\n",
        "\n",
        "    text: text to compute probability of, should be list of characters\n",
        "\n",
        "    permutation_map[c]: gives the character to replace 'c' by\n",
        "\n",
        "    char_to_ix: characters to index mapping\n",
        "\n",
        "    frequency_statistics: frequency of character i is stored in frequency_statistics[i]\n",
        "\n",
        "    transition_matrix: probability of j following i stored at [i, j] in this matrix\n",
        "\n",
        "    Returns:\n",
        "\n",
        "    p: log likelihood of the given text\n",
        "    \"\"\"\n",
        "    c0 = char_to_ix[permutation_map[text[0]]]\n",
        "    p = np.log(frequency_statistics[c0])\n",
        "\n",
        "    p_map_indices = {}\n",
        "    for c1, c2 in permutation_map.items():\n",
        "        p_map_indices[char_to_ix[c1]] = char_to_ix[c2]\n",
        "\n",
        "    indices = [value for (key, value) in sorted(p_map_indices.items())]\n",
        "    transition_matrix[transition_matrix == 0.0] = 1e-10\n",
        "    p += np.sum(transition_counts*np.log(transition_matrix[indices,:][:, indices]))\n",
        "\n",
        "    return p"
      ],
      "metadata": {
        "id": "6lUdC8i-_xMh"
      },
      "execution_count": 102,
      "outputs": []
    },
    {
      "cell_type": "code",
      "source": [
        "p2 = compute_log_probability_by_counts(transition_counts, scrambled_text, p_map, char_to_ix, fr, tr)\n",
        "p2"
      ],
      "metadata": {
        "colab": {
          "base_uri": "https://localhost:8080/"
        },
        "id": "yifhhOTe_xPK",
        "outputId": "c7758b4d-79e6-444c-9737-f83bcab7b1c6"
      },
      "execution_count": 103,
      "outputs": [
        {
          "output_type": "execute_result",
          "data": {
            "text/plain": [
              "-6666.1404603559595"
            ]
          },
          "metadata": {},
          "execution_count": 103
        }
      ]
    },
    {
      "cell_type": "code",
      "source": [
        "def get_state(text, transition_matrix, frequency_statistics, char_to_ix):\n",
        "    \"\"\"\n",
        "    Generates a default state of given text statistics\n",
        "\n",
        "    Returns:\n",
        "    state: A state that can be used along with,\n",
        "           compute_probability_of_state, propose_a_move,\n",
        "           and pretty_state for metropolis_hastings\n",
        "\n",
        "    \"\"\"\n",
        "    transition_counts = compute_transition_counts(text, char_to_ix)\n",
        "    p_map = generate_identity_p_map(char_to_ix.keys())\n",
        "\n",
        "    state = {\"text\" : text, \"transition_matrix\" : transition_matrix,\n",
        "             \"frequency_statistics\" : frequency_statistics, \"char_to_ix\" : char_to_ix,\n",
        "            \"permutation_map\" : p_map, \"transition_counts\" : transition_counts}\n",
        "\n",
        "    return state\n",
        "\n",
        "def compute_probability_of_state(state):\n",
        "    \"\"\"\n",
        "    Computes the probability of given state using compute_log_probability_by_counts\n",
        "    \"\"\"\n",
        "\n",
        "    p = compute_log_probability_by_counts(state[\"transition_counts\"], state[\"text\"], state[\"permutation_map\"],\n",
        "                                          state[\"char_to_ix\"], state[\"frequency_statistics\"], state[\"transition_matrix\"])\n",
        "\n",
        "    return p\n",
        "\n",
        "def move_one_step(p_map):\n",
        "    \"\"\"\n",
        "    Swaps two characters in the given p_map\n",
        "\n",
        "    Return:\n",
        "    p_map_2: new p_map, after swapping the characters\n",
        "    \"\"\"\n",
        "\n",
        "    keys = az_list()\n",
        "    sample = random.sample(keys, 2)\n",
        "\n",
        "    p_map_2 = deepcopy(p_map)\n",
        "    p_map_2[sample[1]] = p_map[sample[0]]\n",
        "    p_map_2[sample[0]] = p_map[sample[1]]\n",
        "\n",
        "    return p_map_2\n",
        "\n",
        "def propose_a_move(state):\n",
        "    \"\"\"\n",
        "    Proposes a new move for the given state,\n",
        "    by moving one step (randomly swapping two characters)\n",
        "    \"\"\"\n",
        "    new_state = {}\n",
        "    for key, value in state.items():\n",
        "        new_state[key] = value\n",
        "    new_state[\"permutation_map\"] = move_one_step(state[\"permutation_map\"])\n",
        "    return new_state"
      ],
      "metadata": {
        "id": "A-h6SKoXBW-U"
      },
      "execution_count": 104,
      "outputs": []
    },
    {
      "cell_type": "code",
      "source": [
        "def pretty_string(text, full=False):\n",
        "    \"\"\"\n",
        "    Pretty formatted string\n",
        "    \"\"\"\n",
        "    if not full:\n",
        "        return ''.join(text[1:200]) + '...'\n",
        "    else:\n",
        "        return ''.join(text) + '...'\n",
        "\n",
        "def pretty_state(state, full=False):\n",
        "    \"\"\"\n",
        "    Returns the state in a pretty format\n",
        "    \"\"\"\n",
        "    if not full:\n",
        "        return pretty_string(scramble_text(state[\"text\"][1:200], state[\"permutation_map\"]), full)\n",
        "    else:\n",
        "        return pretty_string(scramble_text(state[\"text\"], state[\"permutation_map\"]), full)"
      ],
      "metadata": {
        "id": "S1AIFYEuHB9a"
      },
      "execution_count": 105,
      "outputs": []
    },
    {
      "cell_type": "markdown",
      "source": [
        "6. <font color='red'>TODO:</font> write a function *metropolis_hastings* that perfoms the Metropolis-Hastings (see at the beginning of the current subsection):\n",
        "\n",
        "*   Start with a initial state (you can use *get_state* function on the scrambled text);\n",
        "*   Compute *log_density* on the initial state (it can be *compute_probability_of_state* function);\n",
        "*   Change to a new state by making a random transposition of the values in the current step (pay attention to the *propose_a_move* function);\n",
        "*   Compute *log_density* on a new state; if this is larger than *log_density* of the current state accept new state;\n",
        "*   If not, flip a difference-of-densities coin; if it comes up heads, accept new state;\n",
        "*   If the coin toss comes up tails, stay at the current state."
      ],
      "metadata": {
        "id": "GELUZilQD5HV"
      }
    },
    {
      "cell_type": "code",
      "source": [
        "def metropolis_hastings(initial_state, proposal_function, log_density, iters=100, print_every=10,\n",
        "                        tolerance=0.02, error_function=None, pretty_state=None):\n",
        "    \"\"\"\n",
        "    Runs a metropolis hastings algorithm given the settings\n",
        "\n",
        "    Arguments:\n",
        "\n",
        "    initial_state: state from where we should start moving\n",
        "\n",
        "    proposal_function: proposal function for next state, it takes the current state\n",
        "                       and returns the next state\n",
        "\n",
        "    log_density: log probability(upto an unknown normalization constant) function, takes a\n",
        "                 state as input, and gives the log(probability*some constant) of the state.\n",
        "\n",
        "    iters: number of iters to continue\n",
        "\n",
        "    print_every: print every $ iterations the current statistics. For diagnostics purposes.\n",
        "\n",
        "    tolerance: if acceptance rate drops below this, we stop the simulation\n",
        "\n",
        "    error_function: computes the error for current state. Printed every print_every iterations.\n",
        "                    Just for your diagnostics.\n",
        "\n",
        "    pretty_state: A function from your side to print the current state in a pretty format.\n",
        "\n",
        "    Returns:\n",
        "\n",
        "    states: List of states generated during simulation\n",
        "\n",
        "    cross_entropies: list of negative log probabilites during the simulation.\n",
        "\n",
        "    errors: lists of errors generated if given error_function, none otherwise.\n",
        "\n",
        "    \"\"\"\n",
        "\n",
        "    p1 = log_density(initial_state)\n",
        "    errors = []\n",
        "    cross_entropies = []\n",
        "    cross_entropies.append(-p1)\n",
        "    state = initial_state\n",
        "    cnt = 0\n",
        "    accept_cnt = 0\n",
        "    error = -1\n",
        "    states = [initial_state]\n",
        "    it = 0\n",
        "\n",
        "    while it < iters:\n",
        "        ##YOUR CODE IS HERE:\n",
        "        new_state = proposal_function(state)\n",
        "        cnt += 1\n",
        "\n",
        "        ##YOUR CODE IS HERE: accept the new move if p2>p1 or with probability p2-p1\n",
        "        p2 = log_density(new_state)\n",
        "        if p2 > p1 or (np.random.choice([\"head\", \"tail\"], p=[np.exp(p2 - p1), 1 - np.exp(p2-p1)])) == \"head\":\n",
        "\n",
        "            #YOUR CODE IS HERE: update the state\n",
        "            state = new_state\n",
        "\n",
        "\n",
        "            #increment the iteration counter\n",
        "            it += 1\n",
        "\n",
        "            #increment the acceptance counter\n",
        "            accept_cnt += 1\n",
        "\n",
        "            #update the current state probability\n",
        "            p1 = p2\n",
        "            cross_entropies.append(-p1)\n",
        "            #YOUR CODE IS HERE: append errors and states\n",
        "            states.append(state)\n",
        "            if error_function is not None:\n",
        "                error = error_function(state)\n",
        "                errors.append(error)\n",
        "\n",
        "            #print if required\n",
        "            if it%print_every == 0:\n",
        "                acceptance = float(accept_cnt)/float(cnt)\n",
        "                s = \"\"\n",
        "                if pretty_state is not None:\n",
        "                    s = \"Current state : \" + pretty_state(state)\n",
        "\n",
        "                print(\"Entropy : \", -p1, \", Error : \", error, \", Acceptance : \", acceptance)\n",
        "                print(s)\n",
        "                print('\\n')\n",
        "\n",
        "                if acceptance < tolerance:\n",
        "                    break\n",
        "\n",
        "                cnt = 0\n",
        "                accept_cnt = 0\n",
        "\n",
        "    if error_function is None:\n",
        "        errors = None\n",
        "\n",
        "    return states, cross_entropies, errors"
      ],
      "metadata": {
        "id": "zOtFMxVP_xUB"
      },
      "execution_count": 117,
      "outputs": []
    },
    {
      "cell_type": "code",
      "source": [
        "#time to run monte carlo\n",
        "i = 0\n",
        "initial_state = get_state(scrambled_text, tr, fr, char_to_ix)\n",
        "\n",
        "while i < 1:\n",
        "    state, lps, _ = metropolis_hastings(initial_state, propose_a_move, compute_probability_of_state,\n",
        "                                      iters=100000, print_every=500, tolerance=0.02, pretty_state=pretty_state)\n",
        "\n",
        "    plt.plot(lps)\n",
        "    i += 1\n",
        "\n",
        "plt.show()"
      ],
      "metadata": {
        "colab": {
          "base_uri": "https://localhost:8080/"
        },
        "id": "gV6jCfWKBMVq",
        "outputId": "e918ecc8-ead7-465d-b06b-8eadbc19039c"
      },
      "execution_count": null,
      "outputs": [
        {
          "output_type": "stream",
          "name": "stdout",
          "text": [
            "Entropy :  1382.5953029874922 , Error :  -1 , Acceptance :  0.3058103975535168\n",
            "Current state : Ohet euthanity sundoits al waurk noriofo us: id thoy\n",
            "waurk yiork us Dut tho subondruity, whiro it wono\n",
            "wharosago, wo gicht cuoss thoy noriofok us hugelory;\n",
            "Dut thoy thilm wo eno taa koen: tho roello...\n",
            "\n",
            "\n",
            "Entropy :  1227.1369056314632 , Error :  -1 , Acceptance :  0.27277686852154936\n",
            "Current state : What authonitf sungeits or wouly nelieve us: ig thef\n",
            "wouly fiely us but the supengluitf, while it wene\n",
            "wholesome, we micht cuess thef nelievey us humarelf;\n",
            "but thef thirk we ane too yean: the learre...\n",
            "\n",
            "\n",
            "Entropy :  1143.266497882276 , Error :  -1 , Acceptance :  0.2655337227827934\n",
            "Current state : That authority surfeits on would relieve us: if they\n",
            "would yield us but the superfluity, while it were\n",
            "wholesome, we might guess they relieved us humanely;\n",
            "but they think we are too dear: the leanne...\n",
            "\n",
            "\n",
            "Entropy :  1146.811354618742 , Error :  -1 , Acceptance :  0.2612330198537095\n",
            "Current state : That authority surpeits on would relieve us: ip they\n",
            "would yield us but the sumerpluity, while it were\n",
            "wholesofe, we fight guess they relieved us hufanely;\n",
            "but they think we are too dear: the leanne...\n",
            "\n",
            "\n",
            "Entropy :  1145.722907106674 , Error :  -1 , Acceptance :  0.24691358024691357\n",
            "Current state : That authority surpeits on would relieve us: ip they\n",
            "would yield us but the sumerpluity, while it were\n",
            "wholesofe, we fight guess they relieved us hufanely;\n",
            "but they think we are too dear: the leanne...\n",
            "\n",
            "\n",
            "Entropy :  1143.266497882276 , Error :  -1 , Acceptance :  0.25960539979231567\n",
            "Current state : That authority surfeits on would relieve us: if they\n",
            "would yield us but the superfluity, while it were\n",
            "wholesome, we might guess they relieved us humanely;\n",
            "but they think we are too dear: the leanne...\n",
            "\n",
            "\n",
            "Entropy :  1146.13765966996 , Error :  -1 , Acceptance :  0.25393600812595224\n",
            "Current state : That authority surmeits on would relieve us: im they\n",
            "would yield us but the supermluity, while it were\n",
            "wholesofe, we fight guess they relieved us hufanely;\n",
            "but they think we are too dear: the leanne...\n",
            "\n",
            "\n",
            "Entropy :  1143.266497882276 , Error :  -1 , Acceptance :  0.25380710659898476\n",
            "Current state : That authority surfeits on would relieve us: if they\n",
            "would yield us but the superfluity, while it were\n",
            "wholesome, we might guess they relieved us humanely;\n",
            "but they think we are too dear: the leanne...\n",
            "\n",
            "\n",
            "Entropy :  1143.266497882276 , Error :  -1 , Acceptance :  0.24425989252564728\n",
            "Current state : That authority surfeits on would relieve us: if they\n",
            "would yield us but the superfluity, while it were\n",
            "wholesome, we might guess they relieved us humanely;\n",
            "but they think we are too dear: the leanne...\n",
            "\n",
            "\n",
            "Entropy :  1148.4628115827866 , Error :  -1 , Acceptance :  0.2403846153846154\n",
            "Current state : What authority surfeits on would relieve us: if they\n",
            "would yield us but the superfluity, while it were\n",
            "wholesome, we might guess they relieved us humanely;\n",
            "but they think we are too dear: the leanne...\n",
            "\n",
            "\n",
            "Entropy :  1145.094574489868 , Error :  -1 , Acceptance :  0.2544529262086514\n",
            "Current state : That authority surfeits on would relieve us: if they\n",
            "would yield us but the superfluity, while it were\n",
            "wholesome, we might guess they relieved us humanely;\n",
            "but they think we are too dear: the leanne...\n",
            "\n",
            "\n",
            "Entropy :  1145.094574489868 , Error :  -1 , Acceptance :  0.2557544757033248\n",
            "Current state : That authority surfeits on would relieve us: if they\n",
            "would yield us but the superfluity, while it were\n",
            "wholesome, we might guess they relieved us humanely;\n",
            "but they think we are too dear: the leanne...\n",
            "\n",
            "\n",
            "Entropy :  1144.354945394344 , Error :  -1 , Acceptance :  0.24473813020068527\n",
            "Current state : That authority surfeits on would relieve us: if they\n",
            "would yield us but the superfluity, while it were\n",
            "wholesome, we might guess they relieved us humanely;\n",
            "but they think we are too dear: the leanne...\n",
            "\n",
            "\n",
            "Entropy :  1143.266497882276 , Error :  -1 , Acceptance :  0.23957834211787254\n",
            "Current state : That authority surfeits on would relieve us: if they\n",
            "would yield us but the superfluity, while it were\n",
            "wholesome, we might guess they relieved us humanely;\n",
            "but they think we are too dear: the leanne...\n",
            "\n",
            "\n",
            "Entropy :  1146.6996808338797 , Error :  -1 , Acceptance :  0.25113008538422904\n",
            "Current state : That authority surfeits on would relieve us: if they\n",
            "would yield us but the superfluity, while it were\n",
            "wholesome, we might guess they relieved us humanely;\n",
            "but they think we are too dear: the leanne...\n",
            "\n",
            "\n",
            "Entropy :  1146.7673738051446 , Error :  -1 , Acceptance :  0.2552322613578356\n",
            "Current state : Shat authority surfeits on would relieve us: if they\n",
            "would yield us but the superfluity, while it were\n",
            "wholesome, we might guess they relieved us humanely;\n",
            "but they think we are too dear: the leanne...\n",
            "\n",
            "\n",
            "Entropy :  1144.9551680870015 , Error :  -1 , Acceptance :  0.24354603019970775\n",
            "Current state : What authority surfeits on would relieve us: if they\n",
            "would yield us but the superfluity, while it were\n",
            "wholesome, we might guess they relieved us humanely;\n",
            "but they think we are too dear: the leanne...\n",
            "\n",
            "\n",
            "Entropy :  1145.8441675452734 , Error :  -1 , Acceptance :  0.25265285497726125\n",
            "Current state : That authority surfeits on would relieve us: if they\n",
            "would yield us but the superfluity, while it were\n",
            "wholesome, we might guess they relieved us humanely;\n",
            "but they think we are too dear: the leanne...\n",
            "\n",
            "\n",
            "Entropy :  1147.7840923974447 , Error :  -1 , Acceptance :  0.25906735751295334\n",
            "Current state : That authority surfeits on would relieve us: if they\n",
            "would yield us but the superfluity, while it were\n",
            "wholesome, we might guess they relieved us humanely;\n",
            "but they think we are too dear: the leanne...\n",
            "\n",
            "\n",
            "Entropy :  1147.2831776190262 , Error :  -1 , Acceptance :  0.26680896478121663\n",
            "Current state : That authority surfeits on would relieve us: if they\n",
            "would yield us but the superfluity, while it were\n",
            "wholesome, we might guess they relieved us humanely;\n",
            "but they think we are too dear: the leanne...\n",
            "\n",
            "\n",
            "Entropy :  1146.6996808338797 , Error :  -1 , Acceptance :  0.2651113467656416\n",
            "Current state : That authority surfeits on would relieve us: if they\n",
            "would yield us but the superfluity, while it were\n",
            "wholesome, we might guess they relieved us humanely;\n",
            "but they think we are too dear: the leanne...\n",
            "\n",
            "\n",
            "Entropy :  1146.010856254719 , Error :  -1 , Acceptance :  0.2400384061449832\n",
            "Current state : That authority surfeits on would relieve us: if they\n",
            "would yield us but the superfluity, while it were\n",
            "wholesome, we might guess they relieved us humanely;\n",
            "but they think we are too dear: the leanne...\n",
            "\n",
            "\n",
            "Entropy :  1143.266497882276 , Error :  -1 , Acceptance :  0.25201612903225806\n",
            "Current state : That authority surfeits on would relieve us: if they\n",
            "would yield us but the superfluity, while it were\n",
            "wholesome, we might guess they relieved us humanely;\n",
            "but they think we are too dear: the leanne...\n",
            "\n",
            "\n",
            "Entropy :  1144.5110777047214 , Error :  -1 , Acceptance :  0.2420135527589545\n",
            "Current state : That authority surfeits on would relieve us: if they\n",
            "would yield us but the superfluity, while it were\n",
            "wholesome, we might guess they relieved us humanely;\n",
            "but they think we are too dear: the leanne...\n",
            "\n",
            "\n",
            "Entropy :  1150.6555014352668 , Error :  -1 , Acceptance :  0.28216704288939054\n",
            "Current state : That authority surfeits on would relieve us: if they\n",
            "would yield us but the superfluity, while it were\n",
            "wholesome, we might guess they relieved us humanely;\n",
            "but they think we are too dear: the leanne...\n",
            "\n",
            "\n",
            "Entropy :  1149.2748110848052 , Error :  -1 , Acceptance :  0.24390243902439024\n",
            "Current state : Shat authority surfeits on would relieve us: if they\n",
            "would yield us but the superfluity, while it were\n",
            "wholesome, we might guess they relieved us humanely;\n",
            "but they think we are too dear: the leanne...\n",
            "\n",
            "\n",
            "Entropy :  1143.266497882276 , Error :  -1 , Acceptance :  0.2449779519843214\n",
            "Current state : That authority surfeits on would relieve us: if they\n",
            "would yield us but the superfluity, while it were\n",
            "wholesome, we might guess they relieved us humanely;\n",
            "but they think we are too dear: the leanne...\n",
            "\n",
            "\n",
            "Entropy :  1143.266497882276 , Error :  -1 , Acceptance :  0.24437927663734116\n",
            "Current state : That authority surfeits on would relieve us: if they\n",
            "would yield us but the superfluity, while it were\n",
            "wholesome, we might guess they relieved us humanely;\n",
            "but they think we are too dear: the leanne...\n",
            "\n",
            "\n",
            "Entropy :  1144.9551680870015 , Error :  -1 , Acceptance :  0.2535496957403651\n",
            "Current state : What authority surfeits on would relieve us: if they\n",
            "would yield us but the superfluity, while it were\n",
            "wholesome, we might guess they relieved us humanely;\n",
            "but they think we are too dear: the leanne...\n",
            "\n",
            "\n",
            "Entropy :  1144.9551680870015 , Error :  -1 , Acceptance :  0.2575991756826378\n",
            "Current state : What authority surfeits on would relieve us: if they\n",
            "would yield us but the superfluity, while it were\n",
            "wholesome, we might guess they relieved us humanely;\n",
            "but they think we are too dear: the leanne...\n",
            "\n",
            "\n",
            "Entropy :  1144.904372399405 , Error :  -1 , Acceptance :  0.25252525252525254\n",
            "Current state : That authority surfeits on would relieve us: if they\n",
            "would yield us but the superfluity, while it were\n",
            "wholesome, we might guess they relieved us humanely;\n",
            "but they think we are too dear: the leanne...\n",
            "\n",
            "\n",
            "Entropy :  1152.8906977969284 , Error :  -1 , Acceptance :  0.24366471734892786\n",
            "Current state : That authority surmeits on would relieve us: im they\n",
            "would yield us but the supermluity, while it were\n",
            "wholesofe, we fight guess they relieved us hufanely;\n",
            "but they think we are too dear: the leanne...\n",
            "\n",
            "\n",
            "Entropy :  1144.354945394344 , Error :  -1 , Acceptance :  0.24752475247524752\n",
            "Current state : That authority surfeits on would relieve us: if they\n",
            "would yield us but the superfluity, while it were\n",
            "wholesome, we might guess they relieved us humanely;\n",
            "but they think we are too dear: the leanne...\n",
            "\n",
            "\n",
            "Entropy :  1143.266497882276 , Error :  -1 , Acceptance :  0.24330900243309003\n",
            "Current state : That authority surfeits on would relieve us: if they\n",
            "would yield us but the superfluity, while it were\n",
            "wholesome, we might guess they relieved us humanely;\n",
            "but they think we are too dear: the leanne...\n",
            "\n",
            "\n",
            "Entropy :  1145.4551010114344 , Error :  -1 , Acceptance :  0.2400384061449832\n",
            "Current state : That authority surfeits on would relieve us: if they\n",
            "would yield us but the superfluity, while it were\n",
            "wholesome, we might guess they relieved us humanely;\n",
            "but they think we are too dear: the leanne...\n",
            "\n",
            "\n",
            "Entropy :  1146.7741413780611 , Error :  -1 , Acceptance :  0.26441036488630354\n",
            "Current state : That authority surfeits on would relieve us: if they\n",
            "would yield us but the superfluity, while it were\n",
            "wholesome, we might guess they relieved us humanely;\n",
            "but they think we are too dear: the leanne...\n",
            "\n",
            "\n",
            "Entropy :  1143.266497882276 , Error :  -1 , Acceptance :  0.2627430373095113\n",
            "Current state : That authority surfeits on would relieve us: if they\n",
            "would yield us but the superfluity, while it were\n",
            "wholesome, we might guess they relieved us humanely;\n",
            "but they think we are too dear: the leanne...\n",
            "\n",
            "\n",
            "Entropy :  1149.6385355928285 , Error :  -1 , Acceptance :  0.27188689505165853\n",
            "Current state : Shat authority surmeits on would relieve us: im they\n",
            "would yield us but the supermluity, while it were\n",
            "wholesofe, we fight guess they relieved us hufanely;\n",
            "but they think we are too dear: the leanne...\n",
            "\n",
            "\n",
            "Entropy :  1145.4551010114344 , Error :  -1 , Acceptance :  0.2364066193853428\n",
            "Current state : That authority surfeits on would relieve us: if they\n",
            "would yield us but the superfluity, while it were\n",
            "wholesome, we might guess they relieved us humanely;\n",
            "but they think we are too dear: the leanne...\n",
            "\n",
            "\n",
            "Entropy :  1144.5855382489028 , Error :  -1 , Acceptance :  0.25265285497726125\n",
            "Current state : That authority surfeits on would relieve us: if they\n",
            "would yield us but the superfluity, while it were\n",
            "wholesome, we might guess they relieved us humanely;\n",
            "but they think we are too dear: the leanne...\n",
            "\n",
            "\n",
            "Entropy :  1149.1031327640715 , Error :  -1 , Acceptance :  0.26136957658128596\n",
            "Current state : That authority surfeits on would relieve us: if they\n",
            "would yield us but the superfluity, while it were\n",
            "wholesome, we might guess they relieved us humanely;\n",
            "but they think we are too dear: the leanne...\n",
            "\n",
            "\n",
            "Entropy :  1144.904372399405 , Error :  -1 , Acceptance :  0.2455795677799607\n",
            "Current state : That authority surfeits on would relieve us: if they\n",
            "would yield us but the superfluity, while it were\n",
            "wholesome, we might guess they relieved us humanely;\n",
            "but they think we are too dear: the leanne...\n",
            "\n",
            "\n",
            "Entropy :  1144.5855382489028 , Error :  -1 , Acceptance :  0.2536783358701167\n",
            "Current state : That authority surfeits on would relieve us: if they\n",
            "would yield us but the superfluity, while it were\n",
            "wholesome, we might guess they relieved us humanely;\n",
            "but they think we are too dear: the leanne...\n",
            "\n",
            "\n",
            "Entropy :  1147.7755341870889 , Error :  -1 , Acceptance :  0.2631578947368421\n",
            "Current state : That authority surmeits on would relieve us: im they\n",
            "would yield us but the supermluity, while it were\n",
            "wholesofe, we fight guess they relieved us hufanely;\n",
            "but they think we are too dear: the leanne...\n",
            "\n",
            "\n",
            "Entropy :  1144.904372399405 , Error :  -1 , Acceptance :  0.2628811777076761\n",
            "Current state : That authority surfeits on would relieve us: if they\n",
            "would yield us but the superfluity, while it were\n",
            "wholesome, we might guess they relieved us humanely;\n",
            "but they think we are too dear: the leanne...\n",
            "\n",
            "\n",
            "Entropy :  1148.5000248234674 , Error :  -1 , Acceptance :  0.2518891687657431\n",
            "Current state : What authority surpeits on would relieve us: ip they\n",
            "would yield us but the sumerpluity, while it were\n",
            "wholesofe, we fight guess they relieved us hufanely;\n",
            "but they think we are too dear: the leanne...\n",
            "\n",
            "\n",
            "Entropy :  1145.4551010114344 , Error :  -1 , Acceptance :  0.25075225677031093\n",
            "Current state : That authority surfeits on would relieve us: if they\n",
            "would yield us but the superfluity, while it were\n",
            "wholesome, we might guess they relieved us humanely;\n",
            "but they think we are too dear: the leanne...\n",
            "\n",
            "\n",
            "Entropy :  1149.601219456642 , Error :  -1 , Acceptance :  0.23730422401518747\n",
            "Current state : That authority surfeits on would relieve us: if they\n",
            "would yield us but the superfluity, while it were\n",
            "wholesome, we might guess they relieved us humanely;\n",
            "but they think we are too dear: the leanne...\n",
            "\n",
            "\n",
            "Entropy :  1143.266497882276 , Error :  -1 , Acceptance :  0.2587991718426501\n",
            "Current state : That authority surfeits on would relieve us: if they\n",
            "would yield us but the superfluity, while it were\n",
            "wholesome, we might guess they relieved us humanely;\n",
            "but they think we are too dear: the leanne...\n",
            "\n",
            "\n",
            "Entropy :  1145.501941494076 , Error :  -1 , Acceptance :  0.2702702702702703\n",
            "Current state : That authority surfeits on would relieve us: if they\n",
            "would yield us but the superfluity, while it were\n",
            "wholesome, we might guess they relieved us humanely;\n",
            "but they think we are too dear: the leanne...\n",
            "\n",
            "\n",
            "Entropy :  1143.266497882276 , Error :  -1 , Acceptance :  0.26260504201680673\n",
            "Current state : That authority surfeits on would relieve us: if they\n",
            "would yield us but the superfluity, while it were\n",
            "wholesome, we might guess they relieved us humanely;\n",
            "but they think we are too dear: the leanne...\n",
            "\n",
            "\n",
            "Entropy :  1145.7571044740037 , Error :  -1 , Acceptance :  0.25393600812595224\n",
            "Current state : That authority surfeits on would relieve us: if they\n",
            "would yield us but the superfluity, while it were\n",
            "wholesome, we might guess they relieved us humanely;\n",
            "but they think we are too dear: the leanne...\n",
            "\n",
            "\n",
            "Entropy :  1146.2996793436573 , Error :  -1 , Acceptance :  0.25113008538422904\n",
            "Current state : That authority surfeits on would relieve us: if they\n",
            "would yield us but the superfluity, while it were\n",
            "wholesome, we might guess they relieved us humanely;\n",
            "but they think we are too dear: the leanne...\n",
            "\n",
            "\n",
            "Entropy :  1147.445774678729 , Error :  -1 , Acceptance :  0.24937655860349128\n",
            "Current state : What authority surfeits on would relieve us: if they\n",
            "would yield us but the superfluity, while it were\n",
            "wholesome, we might guess they relieved us humanely;\n",
            "but they think we are too dear: the leanne...\n",
            "\n",
            "\n",
            "Entropy :  1147.069428424519 , Error :  -1 , Acceptance :  0.2535496957403651\n",
            "Current state : What authority surfeits on would relieve us: if they\n",
            "would yield us but the superfluity, while it were\n",
            "wholesome, we might guess they relieved us humanely;\n",
            "but they think we are too dear: the leanne...\n",
            "\n",
            "\n",
            "Entropy :  1147.8968617986209 , Error :  -1 , Acceptance :  0.2541942043721403\n",
            "Current state : That authority surfeits on would relieve us: if they\n",
            "would yield us but the superfluity, while it were\n",
            "wholesome, we might guess they relieved us humanely;\n",
            "but they think we are too dear: the leanne...\n",
            "\n",
            "\n",
            "Entropy :  1143.266497882276 , Error :  -1 , Acceptance :  0.23809523809523808\n",
            "Current state : That authority surfeits on would relieve us: if they\n",
            "would yield us but the superfluity, while it were\n",
            "wholesome, we might guess they relieved us humanely;\n",
            "but they think we are too dear: the leanne...\n",
            "\n",
            "\n",
            "Entropy :  1144.9551680870015 , Error :  -1 , Acceptance :  0.24319066147859922\n",
            "Current state : What authority surfeits on would relieve us: if they\n",
            "would yield us but the superfluity, while it were\n",
            "wholesome, we might guess they relieved us humanely;\n",
            "but they think we are too dear: the leanne...\n",
            "\n",
            "\n",
            "Entropy :  1144.9551680870015 , Error :  -1 , Acceptance :  0.24224806201550386\n",
            "Current state : What authority surfeits on would relieve us: if they\n",
            "would yield us but the superfluity, while it were\n",
            "wholesome, we might guess they relieved us humanely;\n",
            "but they think we are too dear: the leanne...\n",
            "\n",
            "\n",
            "Entropy :  1145.448333438518 , Error :  -1 , Acceptance :  0.23957834211787254\n",
            "Current state : Shat authority surfeits on would relieve us: if they\n",
            "would yield us but the superfluity, while it were\n",
            "wholesome, we might guess they relieved us humanely;\n",
            "but they think we are too dear: the leanne...\n",
            "\n",
            "\n",
            "Entropy :  1144.354945394344 , Error :  -1 , Acceptance :  0.2544529262086514\n",
            "Current state : That authority surfeits on would relieve us: if they\n",
            "would yield us but the superfluity, while it were\n",
            "wholesome, we might guess they relieved us humanely;\n",
            "but they think we are too dear: the leanne...\n",
            "\n",
            "\n",
            "Entropy :  1143.266497882276 , Error :  -1 , Acceptance :  0.25588536335721596\n",
            "Current state : That authority surfeits on would relieve us: if they\n",
            "would yield us but the superfluity, while it were\n",
            "wholesome, we might guess they relieved us humanely;\n",
            "but they think we are too dear: the leanne...\n",
            "\n",
            "\n",
            "Entropy :  1147.27641004611 , Error :  -1 , Acceptance :  0.26413100898045433\n",
            "Current state : Shat authority surfeits on would relieve us: if they\n",
            "would yield us but the superfluity, while it were\n",
            "wholesome, we might guess they relieved us humanely;\n",
            "but they think we are too dear: the leanne...\n",
            "\n",
            "\n",
            "Entropy :  1144.9551680870015 , Error :  -1 , Acceptance :  0.24691358024691357\n",
            "Current state : What authority surfeits on would relieve us: if they\n",
            "would yield us but the superfluity, while it were\n",
            "wholesome, we might guess they relieved us humanely;\n",
            "but they think we are too dear: the leanne...\n",
            "\n",
            "\n",
            "Entropy :  1145.7571044740037 , Error :  -1 , Acceptance :  0.254323499491353\n",
            "Current state : That authority surfeits on would relieve us: if they\n",
            "would yield us but the superfluity, while it were\n",
            "wholesome, we might guess they relieved us humanely;\n",
            "but they think we are too dear: the leanne...\n",
            "\n",
            "\n"
          ]
        }
      ]
    },
    {
      "cell_type": "markdown",
      "source": [
        "We can compare the last state text with the original one:"
      ],
      "metadata": {
        "id": "_g4mW5-QYWo1"
      }
    },
    {
      "cell_type": "code",
      "source": [
        "print('Original text:')\n",
        "pretty_print(t)"
      ],
      "metadata": {
        "colab": {
          "base_uri": "https://localhost:8080/"
        },
        "id": "5Szex6I8VVHD",
        "outputId": "ef1ccaff-75bf-424e-e892-9b44ccf52a0a"
      },
      "execution_count": 75,
      "outputs": [
        {
          "output_type": "stream",
          "name": "stdout",
          "text": [
            "Original text:\n",
            "\n",
            "What authority surfeits on would relieve us: if they\n",
            "would yield us but the superfluity, while it were\n",
            "wholesome, we might guess they relieved us humanely;\n",
            "but they think we are too dear: the leanness that\n",
            "afflicts us, the object of our misery, is as an\n",
            "inventory to particularise their abundance; our\n",
            "sufferance is a gain to them Let us revenge this with\n",
            "our pikes, ere we become rakes: for the gods know I\n",
            "speak this in hunger for bread, not in thirst for revenge.\n",
            "\n",
            " ...\n"
          ]
        }
      ]
    },
    {
      "cell_type": "markdown",
      "source": [
        "# Useful sources:"
      ],
      "metadata": {
        "id": "H_KxHNbBYtxL"
      }
    },
    {
      "cell_type": "markdown",
      "source": [
        "1. The material for the lab is mainly taken from the [\"The Markov Chain Monte Carlo Revolution\"](https://www.ams.org/journals/bull/2009-46-02/S0273-0979-08-01238-X/S0273-0979-08-01238-X.pdf)\n",
        "\n",
        "2. [Lecture](https://youtu.be/h8MBpaTeAaQ?feature=shared) on the markov chains and MCMC (quite difficult and in Russian)"
      ],
      "metadata": {
        "id": "jAWdM0wDYxb9"
      }
    }
  ]
}